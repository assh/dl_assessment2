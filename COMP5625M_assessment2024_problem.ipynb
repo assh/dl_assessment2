{
 "cells": [
  {
   "attachments": {},
   "cell_type": "markdown",
   "metadata": {
    "id": "LR4bovYL4CJz"
   },
   "source": [
    "## COMP5625M Practical Assessment - Deep Learning [100 Marks]\n",
    "\n",
    "\n",
    "<div class=\"logos\"><img src=\"Comp5625M_logo.jpg\" width=\"220px\" align=\"right\"></div>\n",
    "\n",
    "This assessment is divided into two parts:\n",
    "> 1. Image classification using DNN and CNN [70 Marks]\n",
    "> 2. Use of RNN to predict texts for image captioning [30 Marks]\n",
    "\n",
    "The maximum number of marks for each part is shown in the section headers. As indicated in the main heading above, the overall assessment carries a maximum of 100 marks.\n",
    "\n",
    "This summative assessment is weighted 50% of the final grade for the module.\n",
    "\n",
    "\n",
    "### Motivation \n",
    "\n",
    "Through this coursework, you will:\n",
    "\n",
    "> 1. Understand and implement your first deep neural network and convolutional neural network (CNN) and see how these can be used for classification problem \n",
    "> 2. Practice building, evaluating, and finetuning your CNN on an image dataset from development to testing stage. \n",
    "> 3. You will learn to tackle overfitting problem using strategies such as data augmentation and drop out.\n",
    "> 4. Compare your model performance and accuracy with others, such as the leaderboard on Kaggle\n",
    "> 5. Use RNNs to predict the caption of an image from established word vocabularies\n",
    "> 6. Understand and visualise text predictions for a given image.\n",
    "\n",
    "\n",
    "### Setup and resources \n",
    "\n",
    "You must work using this provided template notebook.\n",
    "\n",
    "Having a GPU will speed up the training process. See the provided document on Minerva about setting up a working environment for various ways to access a GPU.\n",
    "\n",
    "Please implement the coursework using **Python and PyTorch**, and refer to the notebooks and exercises provided.\n",
    "\n",
    "\n",
    "### Submission\n",
    "\n",
    "Please submit the following:\n",
    "\n",
    "> 1. Your completed Jupyter notebook file, without removing anything in the template, in **.ipynb format.**\n",
    "> 2. The **.html version** of your notebook; File > Download as > HTML (.html). Check that all cells have been run and all outputs (including all graphs you would like to be marked) displayed in the .html for marking.\n",
    "> 3. Your selected image from section 2.4.2 \"Failure analysis\"\n",
    "\n",
    "Final note:\n",
    "\n",
    "> **Please display everything that you would like to be marked. Under each section, put the relevant code containing your solution. You may re-use functions you defined previously, but any new code must be in the relevant section.** Feel free to add as many code cells as you need under each section."
   ]
  },
  {
   "attachments": {},
   "cell_type": "markdown",
   "metadata": {},
   "source": [
    "\n",
    "Your student username (for example, ```sc15jb```): "
   ]
  },
  {
   "attachments": {},
   "cell_type": "markdown",
   "metadata": {},
   "source": [
    "--> double click to respond"
   ]
  },
  {
   "attachments": {},
   "cell_type": "markdown",
   "metadata": {},
   "source": [
    "Your full name: "
   ]
  },
  {
   "attachments": {},
   "cell_type": "markdown",
   "metadata": {},
   "source": [
    "--> double click to respond"
   ]
  },
  {
   "attachments": {},
   "cell_type": "markdown",
   "metadata": {},
   "source": [
    "### Part I: Image Classification [70 marks]\n",
    "\n",
    "#### Dataset\n",
    "This coursework will use a subset of images from Tiny ImageNet, which is a subset of the [ImageNet dataset](https://www.image-net.org/update-mar-11-2021.php). Our subset of Tiny ImageNet contains **30 different categories**, we will refer to it as TinyImageNet30. The training set has 450 resized images (64x64 pixels) for each category (13,500 images in total). You can download the training and test set from the Kaggle website:\n",
    "\n",
    ">[Direct access of data is possible by clicking here, please use your university email to access this](https://leeds365-my.sharepoint.com/:u:/g/personal/scssali_leeds_ac_uk/ESF87mN6kelIkjdISkaRow8BublW27jB-P8eWV6Rr4rxtw?e=SPASDB)\n",
    "\n",
    ">[To submit your results on the Kaggle competition. You can also access data here](https://www.kaggle.com/t/9105198471a3490d9057026d27d8a711)\n",
    "\n",
    "To access the dataset, you will need an account on the Kaggle website. Even if you have an existing Kaggle account, please carefully adhere to these instructions, or we may not be able to locate your entries:\n",
    "\n",
    "> 1. Use your **university email** to register a new account.\n",
    "> 2. Set your **Kaggle account NAME** to your university username, for example, ``sc15jb`` (see the ``note`` below)\n",
    "\n",
    "``Note:`` If the name is already taken in the Kaggle then please use a similar pseudo name and add a note in your submission with the name you have used in the Kaggle. \n",
    "\n",
    "#### Submitting your test result to Kaggle leaderboard \n",
    "The class Kaggle competition also includes a blind test set, which will be used in Question 1 for evaluating your custom model's performance on a test set. The competition website will compute the test set accuracy, as well as position your model on the class leaderboard. More information is provided in the related section below.\n"
   ]
  },
  {
   "attachments": {},
   "cell_type": "markdown",
   "metadata": {},
   "source": [
    "## Required packages\n",
    "\n",
    "[1] [numpy](http://www.numpy.org) is package for scientific computing with python\n",
    "\n",
    "[2] [h5py](http://www.h5py.org) is package to interact with compactly stored dataset\n",
    "\n",
    "[3] [matplotlib](http://matplotlib.org) can be used for plotting graphs in python\n",
    "\n",
    "[4] [pytorch](https://pytorch.org/docs/stable/index.html) is library widely used for bulding deep-learning frameworks\n",
    "\n",
    "Feel free to add to this section as needed some examples for importing some libraries is provided for you below.\n",
    "\n",
    "You may need to install these packages using [pip](https://pypi.org/project/opencv-python/) or [conda](https://anaconda.org/conda-forge/opencv)."
   ]
  },
  {
   "cell_type": "code",
   "execution_count": 1,
   "metadata": {},
   "outputs": [],
   "source": [
    "import cv2\n",
    "import math\n",
    "\n",
    "import numpy as np\n",
    "import torch\n",
    "import torchvision\n",
    "import torch.nn as nn\n",
    "import torchvision.transforms as transforms\n",
    "from torch.hub import load_state_dict_from_url\n",
    "\n",
    "from PIL import Image\n",
    "import matplotlib.pyplot as plt"
   ]
  },
  {
   "cell_type": "code",
   "execution_count": 2,
   "metadata": {},
   "outputs": [
    {
     "name": "stdout",
     "output_type": "stream",
     "text": [
      "2.2.1\n"
     ]
    }
   ],
   "source": [
    "# always check your version\n",
    "print(torch.__version__)"
   ]
  },
  {
   "attachments": {},
   "cell_type": "markdown",
   "metadata": {
    "id": "kfR--uYXHdIi"
   },
   "source": [
    "One challenge of building a deep learning model is to choose an architecture that can learn the features in the dataset without being unnecessarily complex. The first part of the coursework involves building a CNN and training it on TinyImageNet30. \n",
    "\n",
    "### **Overview of image classification:**\n",
    "\n",
    "**1. Function implementation** [14 marks]\n",
    "\n",
    "*   **1.1** PyTorch ```Dataset``` and ```DataLoader``` classes (4 marks)\n",
    "*   **1.2** PyTorch ```Model``` class for a simple MLP model (4 marks)\n",
    "*   **1.3** PyTorch ```Model``` class for a simple CNN model (6 marks)\n",
    "\n",
    "**2. Model training** [30 marks]\n",
    "*   **2.1** Training on TinyImageNet30 dataset (6 marks)\n",
    "*   **2.2** Generating confusion matrices and ROC curves (6 marks)\n",
    "*   **2.3** Strategies for tackling overfitting (18 marks)\n",
    "    *   **2.3.1** Data augmentation\n",
    "    *   **2.3.2** Dropout\n",
    "    *   **2.3.3** Hyperparameter tuning (e.g. changing learning rate)\n",
    "            \n",
    "**3. Model testing** [10 marks]\n",
    "*   **3.1**   Testing your final model in (2) on test set - code to do this (4 marks)\n",
    "*   **3.2**   Uploading your result to Kaggle  (6 marks)\n",
    "\n",
    "**4. Model Fine-tuning on CIFAR10 dataset** [16 marks]\n",
    "*   **4.1** Fine-tuning your model (initialise your model with pretrained weights from (2)) (6 marks)\n",
    "*   **4.2** Fine-tuning model with frozen base convolution layers (6 marks)\n",
    "*   **4.3** Compare complete model retraining with pretrained weights and with frozen layers. Comment on what you observe. (4 marks) \n",
    "\n",
    "\n",
    "<!-- **5. Model comparison** [16 marks]\n",
    "*   **5.1**   Load pretrained AlexNet and finetune on TinyImageNet30 until model convergence (8 marks)\n",
    "*   **5.2**   Compare the results of your model with pretrained AlexNet on the same validation set. Provide performance values (loss graph, confusion matrix, top-1 accuracy, execution time) (8 marks) -->\n",
    "<!-- \n",
    "**6. Interpretation of results** (14 marks)\n",
    "*   **6.1** Implement grad-CAM for your model and AlexNet (6 marks)\n",
    "*   **6.2** Visualise and compare your results from your model and AlexNet (4 marks)\n",
    "*   **6.3** Provide comment on (4 marks)\n",
    "    - why the network predictions were correct or not correct in your predictions? \n",
    "    - what can you do to improve your results further?\n",
    "\n",
    "**7. Residual connection for deeper network** (9 marks)\n",
    "*   **7.1** Implement a few residual layers in AlexNet and retrain on TinyImageNet30. You can change network size if you wish. (6 marks)\n",
    "*   **7.2** Comment on why such connections are important and why this impacted your results in terms of loss and accuracy (if it did!) (3 marks)\n",
    "\n",
    "**Quality of your report** (2 marks) -->\n"
   ]
  },
  {
   "attachments": {},
   "cell_type": "markdown",
   "metadata": {},
   "source": [
    "## 1 Function implementations [14 marks]\n"
   ]
  },
  {
   "attachments": {},
   "cell_type": "markdown",
   "metadata": {},
   "source": [
    "### 1.1 Dataset class (4 marks)\n",
    "\n",
    "Write a PyTorch ```Dataset``` class (an example [here](https://www.askpython.com/python-modules/pytorch-custom-datasets) for reference) which loads the TinyImage30 dataset and ```DataLoaders``` for training and validation sets."
   ]
  },
  {
   "cell_type": "code",
   "execution_count": 5,
   "metadata": {},
   "outputs": [],
   "source": [
    "# TO COMPLETE\n",
    "import os\n",
    "from torch.utils.data import Dataset, DataLoader\n",
    "from PIL import Image\n",
    "\n",
    "device = torch.device(\"mps\")"
   ]
  },
  {
   "cell_type": "code",
   "execution_count": 6,
   "metadata": {},
   "outputs": [],
   "source": [
    "import os\n",
    "from torch.utils.data import Dataset\n",
    "from PIL import Image\n",
    "\n",
    "class TinyImage30Dataset(Dataset):\n",
    "    def __init__(self, directory, transform=None):\n",
    "        self.directory = directory\n",
    "        self.transform = transform\n",
    "        self.classes = [f for f in os.listdir(directory) if not f.startswith('.') and not f.endswith('.txt')]\n",
    "        self.classes.sort()\n",
    "        self.class_to_idx = {self.classes[i]: i for i in range(len(self.classes))}\n",
    "        self.samples = []\n",
    "\n",
    "        for class_name in self.classes:\n",
    "            class_dir = os.path.join(directory, class_name)\n",
    "            for img_name in os.listdir(class_dir):\n",
    "                if img_name.endswith('.JPEG') or img_name.endswith('.png'):\n",
    "                    self.samples.append((os.path.join(class_dir, img_name), self.class_to_idx[class_name]))\n",
    "                \n",
    "\n",
    "    def __len__(self):\n",
    "        return len(self.samples)\n",
    "\n",
    "    def __getitem__(self, idx):\n",
    "        img_path, target = self.samples[idx]\n",
    "        image = Image.open(img_path).convert('RGB')\n",
    "        \n",
    "        if self.transform is not None:\n",
    "            image = self.transform(image)\n",
    "        \n",
    "        return image, target"
   ]
  },
  {
   "cell_type": "code",
   "execution_count": 7,
   "metadata": {},
   "outputs": [],
   "source": [
    "class TinyImage30TestDataset(Dataset):\n",
    "    def __init__(self, directory, transform=None):\n",
    "        self.directory = directory\n",
    "        self.transform = transform\n",
    "        # Load only JPEG and PNG images and sort them to maintain order\n",
    "        self.images = sorted(\n",
    "            [img for img in os.listdir(directory) if img.endswith('.JPEG') or img.endswith('.png')]\n",
    "        )\n",
    "\n",
    "    def __len__(self):\n",
    "        return len(self.images)\n",
    "\n",
    "    def __getitem__(self, idx):\n",
    "        # Get the image path and load it\n",
    "        img_name = self.images[idx]\n",
    "        img_path = os.path.join(self.directory, img_name)\n",
    "        image = Image.open(img_path).convert('RGB')\n",
    "        \n",
    "        # Apply the transformation\n",
    "        if self.transform is not None:\n",
    "            image = self.transform(image)\n",
    "        \n",
    "        # Return the image tensor and its corresponding filename\n",
    "        return image, img_name"
   ]
  },
  {
   "cell_type": "code",
   "execution_count": 8,
   "metadata": {},
   "outputs": [],
   "source": [
    "transform = transforms.Compose([\n",
    "    transforms.Resize(64),\n",
    "    transforms.ToTensor(),\n",
    "    transforms.Normalize(mean=[0.485, 0.456, 0.406], std=[0.229, 0.224, 0.225]),\n",
    "])\n",
    "\n",
    "train_dir = 'data/train_set'  # Update this path\n",
    "test_dir = 'data/test_set'      # Update this path"
   ]
  },
  {
   "cell_type": "code",
   "execution_count": 9,
   "metadata": {},
   "outputs": [],
   "source": [
    "full_dataset = TinyImage30Dataset(directory=train_dir, transform=transform)"
   ]
  },
  {
   "cell_type": "code",
   "execution_count": 10,
   "metadata": {},
   "outputs": [],
   "source": [
    "from torch.utils.data import DataLoader, random_split\n",
    "\n",
    "full_dataset_size = len(full_dataset)\n",
    "test_size = int(0.2 * full_dataset_size)  # 20% for testing\n",
    "train_size = full_dataset_size - test_size\n",
    "\n",
    "# Set seed for reproducibility\n",
    "torch.manual_seed(0)\n",
    "\n",
    "# Split the dataset\n",
    "train_dataset, val_dataset = random_split(full_dataset, [train_size, test_size])\n",
    "\n",
    "# Now create DataLoader instances for the train and test sets\n",
    "train_loader = DataLoader(train_dataset, batch_size=32, shuffle=True)\n",
    "val_loader = DataLoader(val_dataset, batch_size=32, shuffle=False)"
   ]
  },
  {
   "cell_type": "code",
   "execution_count": null,
   "metadata": {},
   "outputs": [],
   "source": [
    "\n",
    "for i, (images,labels) in enumerate(val_loader):\n",
    "    print(f\"Batch {i} in val_loader: images shape {images.shape}\")\n",
    "    if i == 1:  # Just check the first couple of batches\n",
    "        break"
   ]
  },
  {
   "cell_type": "code",
   "execution_count": null,
   "metadata": {},
   "outputs": [],
   "source": [
    "for i, (images, labels) in enumerate(train_loader):\n",
    "    print(f\"Batch {i} in train_loader: images shape {images.shape}, labels shape {labels.shape}\")\n",
    "    if i == 1:  # Just check the first couple of batches\n",
    "        break"
   ]
  },
  {
   "cell_type": "code",
   "execution_count": null,
   "metadata": {},
   "outputs": [],
   "source": [
    "for i, (images) in enumerate(test_loader):\n",
    "    print(f\"Batch {i} in train_loader: images shape {images.shape}\")\n",
    "    if i == 1:  # Just check the first couple of batches\n",
    "        break"
   ]
  },
  {
   "cell_type": "code",
   "execution_count": 11,
   "metadata": {},
   "outputs": [
    {
     "ename": "ValueError",
     "evalue": "optimizer got an empty parameter list",
     "output_type": "error",
     "traceback": [
      "\u001b[0;31m---------------------------------------------------------------------------\u001b[0m",
      "\u001b[0;31mValueError\u001b[0m                                Traceback (most recent call last)",
      "Cell \u001b[0;32mIn[11], line 29\u001b[0m\n\u001b[1;32m     26\u001b[0m statsrec \u001b[38;5;241m=\u001b[39m np\u001b[38;5;241m.\u001b[39mzeros((\u001b[38;5;241m4\u001b[39m,n_epochs))\n\u001b[1;32m     28\u001b[0m loss_fn \u001b[38;5;241m=\u001b[39m nn\u001b[38;5;241m.\u001b[39mCrossEntropyLoss()\n\u001b[0;32m---> 29\u001b[0m optimizer \u001b[38;5;241m=\u001b[39m \u001b[43moptim\u001b[49m\u001b[38;5;241;43m.\u001b[39;49m\u001b[43mSGD\u001b[49m\u001b[43m(\u001b[49m\u001b[43mnet\u001b[49m\u001b[38;5;241;43m.\u001b[39;49m\u001b[43mparameters\u001b[49m\u001b[43m(\u001b[49m\u001b[43m)\u001b[49m\u001b[43m,\u001b[49m\u001b[43m \u001b[49m\u001b[43mlr\u001b[49m\u001b[38;5;241;43m=\u001b[39;49m\u001b[38;5;241;43m0.01\u001b[39;49m\u001b[43m,\u001b[49m\u001b[43m \u001b[49m\u001b[43mmomentum\u001b[49m\u001b[38;5;241;43m=\u001b[39;49m\u001b[38;5;241;43m0.9\u001b[39;49m\u001b[43m)\u001b[49m\n\u001b[1;32m     31\u001b[0m \u001b[38;5;28;01mfor\u001b[39;00m epoch \u001b[38;5;129;01min\u001b[39;00m \u001b[38;5;28mrange\u001b[39m(n_epochs):\n\u001b[1;32m     32\u001b[0m     correct \u001b[38;5;241m=\u001b[39m \u001b[38;5;241m0.0\u001b[39m\n",
      "File \u001b[0;32m~/anaconda3/envs/dl/lib/python3.11/site-packages/torch/optim/sgd.py:27\u001b[0m, in \u001b[0;36mSGD.__init__\u001b[0;34m(self, params, lr, momentum, dampening, weight_decay, nesterov, maximize, foreach, differentiable)\u001b[0m\n\u001b[1;32m     25\u001b[0m \u001b[38;5;28;01mif\u001b[39;00m nesterov \u001b[38;5;129;01mand\u001b[39;00m (momentum \u001b[38;5;241m<\u001b[39m\u001b[38;5;241m=\u001b[39m \u001b[38;5;241m0\u001b[39m \u001b[38;5;129;01mor\u001b[39;00m dampening \u001b[38;5;241m!=\u001b[39m \u001b[38;5;241m0\u001b[39m):\n\u001b[1;32m     26\u001b[0m     \u001b[38;5;28;01mraise\u001b[39;00m \u001b[38;5;167;01mValueError\u001b[39;00m(\u001b[38;5;124m\"\u001b[39m\u001b[38;5;124mNesterov momentum requires a momentum and zero dampening\u001b[39m\u001b[38;5;124m\"\u001b[39m)\n\u001b[0;32m---> 27\u001b[0m \u001b[38;5;28;43msuper\u001b[39;49m\u001b[43m(\u001b[49m\u001b[43m)\u001b[49m\u001b[38;5;241;43m.\u001b[39;49m\u001b[38;5;21;43m__init__\u001b[39;49m\u001b[43m(\u001b[49m\u001b[43mparams\u001b[49m\u001b[43m,\u001b[49m\u001b[43m \u001b[49m\u001b[43mdefaults\u001b[49m\u001b[43m)\u001b[49m\n",
      "File \u001b[0;32m~/anaconda3/envs/dl/lib/python3.11/site-packages/torch/optim/optimizer.py:273\u001b[0m, in \u001b[0;36mOptimizer.__init__\u001b[0;34m(self, params, defaults)\u001b[0m\n\u001b[1;32m    271\u001b[0m param_groups \u001b[38;5;241m=\u001b[39m \u001b[38;5;28mlist\u001b[39m(params)\n\u001b[1;32m    272\u001b[0m \u001b[38;5;28;01mif\u001b[39;00m \u001b[38;5;28mlen\u001b[39m(param_groups) \u001b[38;5;241m==\u001b[39m \u001b[38;5;241m0\u001b[39m:\n\u001b[0;32m--> 273\u001b[0m     \u001b[38;5;28;01mraise\u001b[39;00m \u001b[38;5;167;01mValueError\u001b[39;00m(\u001b[38;5;124m\"\u001b[39m\u001b[38;5;124moptimizer got an empty parameter list\u001b[39m\u001b[38;5;124m\"\u001b[39m)\n\u001b[1;32m    274\u001b[0m \u001b[38;5;28;01mif\u001b[39;00m \u001b[38;5;129;01mnot\u001b[39;00m \u001b[38;5;28misinstance\u001b[39m(param_groups[\u001b[38;5;241m0\u001b[39m], \u001b[38;5;28mdict\u001b[39m):\n\u001b[1;32m    275\u001b[0m     param_groups \u001b[38;5;241m=\u001b[39m [{\u001b[38;5;124m'\u001b[39m\u001b[38;5;124mparams\u001b[39m\u001b[38;5;124m'\u001b[39m: param_groups}]\n",
      "\u001b[0;31mValueError\u001b[0m: optimizer got an empty parameter list"
     ]
    }
   ],
   "source": [
    "from scipy import stats\n",
    "import torch.optim as optim\n",
    "\n",
    "class MLP_s(nn.Module):\n",
    "    def _init_(self,num_classes=31):\n",
    "        super(MLP_s, self)._init_()\n",
    "        self.fc1 = nn.Linear(3 * 64 * 64, 512)\n",
    "        self.fc2 = nn.Linear(512, 256)\n",
    "        self.fc3 = nn.Linear(256, 100)\n",
    "        self.fc4 = nn.Linear(100, num_classes)\n",
    "\n",
    "\n",
    "    def forward(self, x):\n",
    "        \n",
    "        out = x.reshape(x.size(0), -1)\n",
    "        out = torch.sigmoid(self.fc1(out))\n",
    "        out = torch.sigmoid(self.fc2(out))\n",
    "        out = torch.sigmoid(self.fc3(out))\n",
    "        out = self.fc4(out)\n",
    "        return out\n",
    "    \n",
    "n_epochs = 10\n",
    "net = MLP_s()\n",
    "\n",
    "losses = np.zeros(n_epochs)\n",
    "statsrec = np.zeros((4,n_epochs))\n",
    "\n",
    "loss_fn = nn.CrossEntropyLoss()\n",
    "optimizer = optim.SGD(net.parameters(), lr=0.01, momentum=0.9)\n",
    "\n",
    "for epoch in range(n_epochs):\n",
    "    correct = 0.0\n",
    "    total = 0.0\n",
    "    running_loss = 0.0\n",
    "    n = 0\n",
    "\n",
    "    for data in train_loader:\n",
    "        inputs, labels = data\n",
    "        optimizer.zero_grad()\n",
    "        outputs = net(inputs)\n",
    "        loss = loss_fn(outputs, labels)\n",
    "        loss.backward()\n",
    "        optimizer.step()\n",
    "        running_loss += loss.item()\n",
    "        n += 1  \n",
    "\n",
    "        losses[epoch] = running_loss / n\n",
    "        #print(f\"Epoch : {epoch+1}, Loss: {losses[epoch] : .3f}\")\n",
    "\n",
    "        _, predicted = torch.max(outputs.data, 1)\n",
    "        total += labels.size(0)    \n",
    "        correct += (predicted == labels).sum().item()  \n",
    "\n",
    "    ltrn = running_loss/n\n",
    "    atrn = correct/total\n",
    "    lval, aval = stats(val_loader, net)\n",
    "\n",
    "    lval = lval.item() \n",
    "\n",
    "    statsrec[:,epoch] = (ltrn, atrn, lval, aval)\n",
    "    print(f\"epoch: {epoch + 1} training loss: {ltrn: .3f} training accuracy: {atrn: .1%}  val loss: {lval: .3f} val accuracy: {aval: .1%}\")"
   ]
  },
  {
   "attachments": {},
   "cell_type": "markdown",
   "metadata": {},
   "source": [
    "### 1.2 Define a MLP model class (4 marks)\n",
    "\n",
    "<u>Create a new model class using a combination of:</u>\n",
    "- Input Units\n",
    "- Hidden Units\n",
    "- Output Units\n",
    "- Activation functions\n",
    "- Loss function\n",
    "- Optimiser"
   ]
  },
  {
   "cell_type": "code",
   "execution_count": 12,
   "metadata": {},
   "outputs": [],
   "source": [
    "# TO COMPLETE\n",
    "# define a MLP Model class\n",
    "\n",
    "class MLP(nn.Module):\n",
    "    def __init__(self, input_units, hidden_units, output_units):\n",
    "        super(MLP, self).__init__()\n",
    "        self.fc1 = nn.Linear(input_units, hidden_units)  # Adjusted for 64x64 RGB input\n",
    "        self.activation1 = nn.Sigmoid()\n",
    "        self.fc2 = nn.Linear(hidden_units, 256)\n",
    "        self.fc3 = nn.Linear(256, output_units)\n",
    "\n",
    "    def forward(self, x):\n",
    "        x = x.view(-1, 3 * 64 * 64)  # Flatten the image to a vector\n",
    "        x = self.activation1(self.fc1(x))\n",
    "        x = self.activation1(self.fc2(x))\n",
    "        x = self.fc3(x)\n",
    "        return x\n"
   ]
  },
  {
   "cell_type": "code",
   "execution_count": 13,
   "metadata": {},
   "outputs": [],
   "source": [
    "import torch.optim as optim\n",
    "\n",
    "input_units = 3 * 64 * 64\n",
    "hidden_units = 512\n",
    "output_units = 30\n",
    "\n",
    "# Instantiate the model\n",
    "mlp_model = MLP(input_units=input_units, hidden_units=hidden_units, output_units=output_units)"
   ]
  },
  {
   "attachments": {},
   "cell_type": "markdown",
   "metadata": {},
   "source": [
    "### 1.3 Define a CNN model class (6 marks)\n",
    "\n",
    "<u>Create a new model class using a combination of:</u>\n",
    "- Convolution layers\n",
    "- Activation functions (e.g. ReLU)\n",
    "- Maxpooling layers\n",
    "- Fully connected layers \n",
    "- Loss function\n",
    "- Optimiser\n",
    "\n",
    "*Please note that the network should be at least a few layers for the model to perform well.*"
   ]
  },
  {
   "cell_type": "code",
   "execution_count": 14,
   "metadata": {},
   "outputs": [],
   "source": [
    "# TO COMPLETE\n",
    "# define a CNN Model class\n",
    "\n",
    "class SimpleCNN(nn.Module):\n",
    "    def __init__(self):\n",
    "        super(SimpleCNN, self).__init__()\n",
    "        self.conv1 = nn.Conv2d(3, 32, 3, padding=1)  # Use 3 for RGB images\n",
    "        self.conv2 = nn.Conv2d(32, 64, 3, padding=1)\n",
    "        self.relu = nn.ReLU()\n",
    "        self.maxpool = nn.MaxPool2d(2, 2)\n",
    "        self.fc1 = nn.Linear(64 * 16 * 16, 128)  # Adjust for the output size after convolutions and pooling\n",
    "        self.fc2 = nn.Linear(128, 30)\n",
    "\n",
    "    def forward(self, x):\n",
    "        x = self.maxpool(self.relu(self.conv1(x)))\n",
    "        x = self.maxpool(self.relu(self.conv2(x)))\n",
    "        x = x.view(-1, 64 * 16 * 16)  # Flatten the output\n",
    "        x = self.relu(self.fc1(x))\n",
    "        x = self.fc2(x)\n",
    "        return x\n",
    "\n",
    "cnn_model = SimpleCNN()"
   ]
  },
  {
   "attachments": {},
   "cell_type": "markdown",
   "metadata": {},
   "source": [
    "## 2 Model training [30 marks]\n",
    "\n",
    "\n",
    "### 2.1 Train both MLP and CNN model - show loss and accuracy graphs side by side (6 marks)\n",
    "\n",
    "Train your model on the TinyImageNet30 dataset. Split the data into train and validation sets to determine when to stop training. Use seed at 0 for reproducibility and test_ratio=0.2 (validation data)\n",
    "\n",
    "Display the graph of training and validation loss over epochs and accuracy over epochs to show how you determined the optimal number of training epochs. A top-*k* accuracy implementation is provided for you below.\n",
    "\n",
    "> Please leave the graph clearly displayed. Please use the same graph to plot graphs for both train and validation.\n"
   ]
  },
  {
   "cell_type": "code",
   "execution_count": 15,
   "metadata": {},
   "outputs": [],
   "source": [
    "# (HelperDL function) -- Define top-*k* accuracy (**new**)\n",
    "def topk_accuracy(output, target, topk=(1,)):\n",
    "    \"\"\"Computes the precision@k for the specified values of k\"\"\"\n",
    "    maxk = max(topk)\n",
    "    batch_size = target.size(0)\n",
    "    _, pred = output.topk(maxk, 1, True, True)\n",
    "    pred = pred.t()\n",
    "    correct = pred.eq(target.view(1, -1).expand_as(pred))\n",
    "\n",
    "    res = []\n",
    "    for k in topk:\n",
    "        correct_k = correct[:k].view(-1).float().sum(0)\n",
    "        res.append(correct_k.mul_(100.0 / batch_size))\n",
    "    return res"
   ]
  },
  {
   "cell_type": "code",
   "execution_count": 16,
   "metadata": {},
   "outputs": [],
   "source": [
    "criterion = nn.CrossEntropyLoss()\n",
    "mlp_optimizer = optim.Adam(mlp_model.parameters(), lr=1e-3)\n",
    "cnn_optimizer = optim.Adam(cnn_model.parameters(), lr=1e-3)"
   ]
  },
  {
   "cell_type": "code",
   "execution_count": 17,
   "metadata": {},
   "outputs": [],
   "source": [
    "#TO COMPLETE --> Running your MLP model class\n",
    "def train_model(model, train_loader, val_loader, criterion, optimizer, num_epochs=25):\n",
    "    # Set the device to GPU if available\n",
    "    \n",
    "    model = model.to(device)\n",
    "\n",
    "    # Track loss and accuracy values for plotting\n",
    "    history = {'train_loss': [], 'val_loss': [], 'train_acc': [], 'val_acc': []}\n",
    "\n",
    "    for epoch in range(num_epochs):\n",
    "        model.train()  # Set model to training mode\n",
    "        running_loss = 0.0\n",
    "        running_corrects = 0\n",
    "\n",
    "        # Training phase\n",
    "        for inputs, labels in train_loader:\n",
    "            inputs, labels = inputs.to(device), labels.to(device)\n",
    "\n",
    "            # Zero the parameter gradients\n",
    "            optimizer.zero_grad()\n",
    "\n",
    "            # Forward\n",
    "            outputs = model(inputs)\n",
    "            _, preds = torch.max(outputs, 1)\n",
    "            loss = criterion(outputs, labels)\n",
    "\n",
    "            # Backward + optimize\n",
    "            loss.backward()\n",
    "            optimizer.step()\n",
    "\n",
    "            # Statistics\n",
    "            running_loss += loss.item() * inputs.size(0)\n",
    "            running_corrects += torch.sum(preds == labels.data)\n",
    "\n",
    "        epoch_loss = running_loss / len(train_loader.dataset)\n",
    "        epoch_acc = running_corrects.float() / len(train_loader.dataset)\n",
    "\n",
    "        # Validation phase\n",
    "        model.eval()  # Set model to evaluate mode\n",
    "        val_loss = 0.0\n",
    "        val_corrects = 0\n",
    "\n",
    "        with torch.no_grad():\n",
    "            for inputs, labels in val_loader:\n",
    "                inputs, labels = inputs.to(device), labels.to(device)\n",
    "\n",
    "                outputs = model(inputs)\n",
    "                _, preds = torch.max(outputs, 1)\n",
    "                loss = criterion(outputs, labels)\n",
    "\n",
    "                # Statistics\n",
    "                val_loss += loss.item() * inputs.size(0)\n",
    "                val_corrects += torch.sum(preds == labels.data)\n",
    "\n",
    "        val_epoch_loss = val_loss / len(val_loader.dataset)\n",
    "        val_epoch_acc = val_corrects.float() / len(val_loader.dataset)\n",
    "\n",
    "        print(f'Epoch {epoch}/{num_epochs - 1} - '\n",
    "              f'Train Loss: {epoch_loss:.4f} - Train Acc: {epoch_acc:.4f} - '\n",
    "              f'Val Loss: {val_epoch_loss:.4f} - Val Acc: {val_epoch_acc:.4f}')\n",
    "\n",
    "        # Record the loss and accuracy\n",
    "        history['train_loss'].append(epoch_loss)\n",
    "        history['val_loss'].append(val_epoch_loss)\n",
    "        history['train_acc'].append(epoch_acc.item())\n",
    "        history['val_acc'].append(val_epoch_acc.item())\n",
    "\n",
    "    return model, history\n"
   ]
  },
  {
   "cell_type": "code",
   "execution_count": 18,
   "metadata": {},
   "outputs": [],
   "source": [
    "def plot_training_history(history):\n",
    "    plt.figure(figsize=(12, 4))\n",
    "\n",
    "    plt.subplot(1, 2, 1)\n",
    "    plt.plot(history['train_loss'], label='Train Loss')\n",
    "    plt.plot(history['val_loss'], label='Validation Loss')\n",
    "    plt.legend()\n",
    "    plt.title('Loss over Epochs')\n",
    "\n",
    "    plt.subplot(1, 2, 2)\n",
    "    plt.plot(history['train_acc'], label='Train Accuracy')\n",
    "    plt.plot(history['val_acc'], label='Validation Accuracy')\n",
    "    plt.legend()\n",
    "    plt.title('Accuracy over Epochs')\n",
    "\n",
    "    plt.show()"
   ]
  },
  {
   "cell_type": "code",
   "execution_count": null,
   "metadata": {},
   "outputs": [],
   "source": [
    "# Your graph\n",
    "mlp_criterion = nn.CrossEntropyLoss()\n",
    "mlp_optimizer = optim.Adam(mlp_model.parameters(), lr=1e-3)\n",
    "\n",
    "device = torch.device(\"cuda:0\" if torch.cuda.is_available() else \"mps\")\n",
    "\n",
    "# Train MLP model\n",
    "mlp_model, mlp_history = train_model(mlp_model, train_loader, val_loader, mlp_criterion, mlp_optimizer, num_epochs=5)\n",
    "\n",
    "# Plot training history for MLP\n",
    "plot_training_history(mlp_history)"
   ]
  },
  {
   "cell_type": "code",
   "execution_count": 20,
   "metadata": {},
   "outputs": [
    {
     "ename": "KeyboardInterrupt",
     "evalue": "",
     "output_type": "error",
     "traceback": [
      "\u001b[0;31m---------------------------------------------------------------------------\u001b[0m",
      "\u001b[0;31mKeyboardInterrupt\u001b[0m                         Traceback (most recent call last)",
      "Cell \u001b[0;32mIn[20], line 8\u001b[0m\n\u001b[1;32m      5\u001b[0m cnn_optimizer \u001b[38;5;241m=\u001b[39m optim\u001b[38;5;241m.\u001b[39mAdam(cnn_model\u001b[38;5;241m.\u001b[39mparameters(), lr\u001b[38;5;241m=\u001b[39m\u001b[38;5;241m1e-3\u001b[39m)\n\u001b[1;32m      7\u001b[0m \u001b[38;5;66;03m# Train CNN model\u001b[39;00m\n\u001b[0;32m----> 8\u001b[0m cnn_model, cnn_history \u001b[38;5;241m=\u001b[39m \u001b[43mtrain_model\u001b[49m\u001b[43m(\u001b[49m\u001b[43mcnn_model\u001b[49m\u001b[43m,\u001b[49m\u001b[43m \u001b[49m\u001b[43mtrain_loader\u001b[49m\u001b[43m,\u001b[49m\u001b[43m \u001b[49m\u001b[43mval_loader\u001b[49m\u001b[43m,\u001b[49m\u001b[43m \u001b[49m\u001b[43mcnn_criterion\u001b[49m\u001b[43m,\u001b[49m\u001b[43m \u001b[49m\u001b[43mcnn_optimizer\u001b[49m\u001b[43m,\u001b[49m\u001b[43m \u001b[49m\u001b[43mnum_epochs\u001b[49m\u001b[38;5;241;43m=\u001b[39;49m\u001b[38;5;241;43m7\u001b[39;49m\u001b[43m)\u001b[49m\n\u001b[1;32m     10\u001b[0m \u001b[38;5;66;03m# Plot training history for CNN\u001b[39;00m\n\u001b[1;32m     11\u001b[0m plot_training_history(cnn_history)\n",
      "Cell \u001b[0;32mIn[15], line 28\u001b[0m, in \u001b[0;36mtrain_model\u001b[0;34m(model, train_loader, val_loader, criterion, optimizer, num_epochs)\u001b[0m\n\u001b[1;32m     25\u001b[0m loss \u001b[38;5;241m=\u001b[39m criterion(outputs, labels)\n\u001b[1;32m     27\u001b[0m \u001b[38;5;66;03m# Backward + optimize\u001b[39;00m\n\u001b[0;32m---> 28\u001b[0m \u001b[43mloss\u001b[49m\u001b[38;5;241;43m.\u001b[39;49m\u001b[43mbackward\u001b[49m\u001b[43m(\u001b[49m\u001b[43m)\u001b[49m\n\u001b[1;32m     29\u001b[0m optimizer\u001b[38;5;241m.\u001b[39mstep()\n\u001b[1;32m     31\u001b[0m \u001b[38;5;66;03m# Statistics\u001b[39;00m\n",
      "File \u001b[0;32m~/anaconda3/envs/dl/lib/python3.11/site-packages/torch/_tensor.py:522\u001b[0m, in \u001b[0;36mTensor.backward\u001b[0;34m(self, gradient, retain_graph, create_graph, inputs)\u001b[0m\n\u001b[1;32m    512\u001b[0m \u001b[38;5;28;01mif\u001b[39;00m has_torch_function_unary(\u001b[38;5;28mself\u001b[39m):\n\u001b[1;32m    513\u001b[0m     \u001b[38;5;28;01mreturn\u001b[39;00m handle_torch_function(\n\u001b[1;32m    514\u001b[0m         Tensor\u001b[38;5;241m.\u001b[39mbackward,\n\u001b[1;32m    515\u001b[0m         (\u001b[38;5;28mself\u001b[39m,),\n\u001b[0;32m   (...)\u001b[0m\n\u001b[1;32m    520\u001b[0m         inputs\u001b[38;5;241m=\u001b[39minputs,\n\u001b[1;32m    521\u001b[0m     )\n\u001b[0;32m--> 522\u001b[0m \u001b[43mtorch\u001b[49m\u001b[38;5;241;43m.\u001b[39;49m\u001b[43mautograd\u001b[49m\u001b[38;5;241;43m.\u001b[39;49m\u001b[43mbackward\u001b[49m\u001b[43m(\u001b[49m\n\u001b[1;32m    523\u001b[0m \u001b[43m    \u001b[49m\u001b[38;5;28;43mself\u001b[39;49m\u001b[43m,\u001b[49m\u001b[43m \u001b[49m\u001b[43mgradient\u001b[49m\u001b[43m,\u001b[49m\u001b[43m \u001b[49m\u001b[43mretain_graph\u001b[49m\u001b[43m,\u001b[49m\u001b[43m \u001b[49m\u001b[43mcreate_graph\u001b[49m\u001b[43m,\u001b[49m\u001b[43m \u001b[49m\u001b[43minputs\u001b[49m\u001b[38;5;241;43m=\u001b[39;49m\u001b[43minputs\u001b[49m\n\u001b[1;32m    524\u001b[0m \u001b[43m\u001b[49m\u001b[43m)\u001b[49m\n",
      "File \u001b[0;32m~/anaconda3/envs/dl/lib/python3.11/site-packages/torch/autograd/__init__.py:266\u001b[0m, in \u001b[0;36mbackward\u001b[0;34m(tensors, grad_tensors, retain_graph, create_graph, grad_variables, inputs)\u001b[0m\n\u001b[1;32m    261\u001b[0m     retain_graph \u001b[38;5;241m=\u001b[39m create_graph\n\u001b[1;32m    263\u001b[0m \u001b[38;5;66;03m# The reason we repeat the same comment below is that\u001b[39;00m\n\u001b[1;32m    264\u001b[0m \u001b[38;5;66;03m# some Python versions print out the first line of a multi-line function\u001b[39;00m\n\u001b[1;32m    265\u001b[0m \u001b[38;5;66;03m# calls in the traceback and some print out the last line\u001b[39;00m\n\u001b[0;32m--> 266\u001b[0m \u001b[43mVariable\u001b[49m\u001b[38;5;241;43m.\u001b[39;49m\u001b[43m_execution_engine\u001b[49m\u001b[38;5;241;43m.\u001b[39;49m\u001b[43mrun_backward\u001b[49m\u001b[43m(\u001b[49m\u001b[43m  \u001b[49m\u001b[38;5;66;43;03m# Calls into the C++ engine to run the backward pass\u001b[39;49;00m\n\u001b[1;32m    267\u001b[0m \u001b[43m    \u001b[49m\u001b[43mtensors\u001b[49m\u001b[43m,\u001b[49m\n\u001b[1;32m    268\u001b[0m \u001b[43m    \u001b[49m\u001b[43mgrad_tensors_\u001b[49m\u001b[43m,\u001b[49m\n\u001b[1;32m    269\u001b[0m \u001b[43m    \u001b[49m\u001b[43mretain_graph\u001b[49m\u001b[43m,\u001b[49m\n\u001b[1;32m    270\u001b[0m \u001b[43m    \u001b[49m\u001b[43mcreate_graph\u001b[49m\u001b[43m,\u001b[49m\n\u001b[1;32m    271\u001b[0m \u001b[43m    \u001b[49m\u001b[43minputs\u001b[49m\u001b[43m,\u001b[49m\n\u001b[1;32m    272\u001b[0m \u001b[43m    \u001b[49m\u001b[43mallow_unreachable\u001b[49m\u001b[38;5;241;43m=\u001b[39;49m\u001b[38;5;28;43;01mTrue\u001b[39;49;00m\u001b[43m,\u001b[49m\n\u001b[1;32m    273\u001b[0m \u001b[43m    \u001b[49m\u001b[43maccumulate_grad\u001b[49m\u001b[38;5;241;43m=\u001b[39;49m\u001b[38;5;28;43;01mTrue\u001b[39;49;00m\u001b[43m,\u001b[49m\n\u001b[1;32m    274\u001b[0m \u001b[43m\u001b[49m\u001b[43m)\u001b[49m\n",
      "\u001b[0;31mKeyboardInterrupt\u001b[0m: "
     ]
    }
   ],
   "source": [
    "#TO COMPLETE --> Running your CNN model class\n",
    "# Do the same for the CNN model with its own criterion and optimizer\n",
    "cnn_model = SimpleCNN()\n",
    "cnn_criterion = nn.CrossEntropyLoss()\n",
    "cnn_optimizer = optim.Adam(cnn_model.parameters(), lr=1e-3)\n",
    "\n",
    "# Train CNN model\n",
    "cnn_model, cnn_history = train_model(cnn_model, train_loader, val_loader, cnn_criterion, cnn_optimizer, num_epochs=7)\n",
    "\n",
    "# Plot training history for CNN\n",
    "plot_training_history(cnn_history)"
   ]
  },
  {
   "attachments": {},
   "cell_type": "markdown",
   "metadata": {},
   "source": [
    "> Comment on your model and the results you have obtained. This should include the number of parameters for each of your models and briefly explain why one should use CNN over MLP for the image classification problem."
   ]
  },
  {
   "attachments": {},
   "cell_type": "markdown",
   "metadata": {},
   "source": [
    "### 2.2 Generating confusion matrix and ROC curves (6 marks)\n",
    "- Use your CNN architecture with best accuracy to generate two confusion matrices, one for the training set and another for the validation set. Remember to use the whole validation and training sets, and to include all your relevant code. Display the confusion matrices in a meaningful way which clearly indicates what percentage of the data is represented in each position.\n",
    "- Display an ROC curve for the two top and two bottom classes with area under the curve"
   ]
  },
  {
   "cell_type": "code",
   "execution_count": null,
   "metadata": {},
   "outputs": [],
   "source": [
    "# Your code here!\n",
    "from sklearn.metrics import confusion_matrix, roc_curve, auc\n",
    "import seaborn as sns\n",
    "import matplotlib.pyplot as plt\n",
    "\n",
    "# Assuming you have a trained model 'cnn_model' and DataLoaders 'train_loader' and 'val_loader'  # Set the model to evaluation mode\n",
    "# Function to get predictions and true labels\n",
    "def get_all_preds_labels( loader):\n",
    "    all_preds = []\n",
    "    all_labels = []\n",
    "      # Ensure the model is in evaluation mode and on the MPS device\n",
    "    model = cnn_model.to(device).eval()\n",
    "    with torch.no_grad():\n",
    "        for inputs, labels in loader:\n",
    "            # Ensure inputs and labels are floats and on the MPS device\n",
    "            inputs, labels = inputs.float().to(device), labels.to(device)\n",
    "            outputs = model(inputs)\n",
    "            _, preds = torch.max(outputs, 1)\n",
    "            all_preds.append(preds.cpu().numpy())  # Transfer preds back to CPU for numpy conversion\n",
    "            all_labels.append(labels.cpu().numpy())  # Transfer labels back to CPU for numpy conversion\n",
    "\n",
    "    # Concatenate all batches\n",
    "    all_preds = np.concatenate(all_preds)\n",
    "    all_labels = np.concatenate(all_labels)\n",
    "\n",
    "    return all_preds, all_labels\n",
    "\n",
    "train_preds, train_labels = get_all_preds_labels(train_loader)\n",
    "val_preds, val_labels = get_all_preds_labels(val_loader)"
   ]
  },
  {
   "cell_type": "code",
   "execution_count": null,
   "metadata": {},
   "outputs": [],
   "source": [
    "print(f\"Train predictions shape: {train_preds.shape}, Train labels shape: {train_labels.shape}\")\n",
    "print(f\"Validation predictions shape: {val_preds.shape}, Validation labels shape: {val_labels.shape}\")"
   ]
  },
  {
   "cell_type": "code",
   "execution_count": null,
   "metadata": {},
   "outputs": [],
   "source": [
    "train_conf_mat = confusion_matrix(train_labels, train_preds)\n",
    "val_conf_mat = confusion_matrix(val_labels, val_preds)\n",
    "\n",
    "# Plotting the confusion matrix\n",
    "fig, ax = plt.subplots(1, 2, figsize=(12, 6))\n",
    "\n",
    "sns.heatmap(train_conf_mat, annot=True, ax=ax[0], fmt='g')  # Annotate cells with 'g' to disable scientific notation\n",
    "ax[0].set_title('Training Set Confusion Matrix')\n",
    "ax[0].set_xlabel('Predicted labels')\n",
    "ax[0].set_ylabel('True labels')\n",
    "\n",
    "sns.heatmap(val_conf_mat, annot=True, ax=ax[1], fmt='g')\n",
    "ax[1].set_title('Validation Set Confusion Matrix')\n",
    "ax[1].set_xlabel('Predicted labels')\n",
    "ax[1].set_ylabel('True labels')\n",
    "\n",
    "plt.show()"
   ]
  },
  {
   "cell_type": "code",
   "execution_count": null,
   "metadata": {},
   "outputs": [],
   "source": [
    "from sklearn.preprocessing import label_binarize\n",
    "from sklearn.metrics import roc_curve, auc\n",
    "from itertools import cycle\n",
    "\n",
    "# Binarize the labels for multiclass ROC curve\n",
    "n_classes = cnn_model.fc2.out_features  # Change 'fc2' to your output layer's name\n",
    "y_bin_train = label_binarize(train_labels, classes=range(n_classes))\n",
    "y_bin_val = label_binarize(val_labels, classes=range(n_classes))\n",
    "\n",
    "# Get probabilities instead of predicted labels\n",
    "def get_all_probs(loader):\n",
    "    all_probs = torch.tensor([])\n",
    "    with torch.no_grad():\n",
    "        for inputs, _ in loader:\n",
    "            inputs = inputs.to(device)\n",
    "            outputs = cnn_model(inputs)\n",
    "            all_probs = torch.cat((all_probs, outputs.cpu()), dim=0)\n",
    "    return all_probs.numpy()\n",
    "\n",
    "train_probs = get_all_probs(train_loader)\n",
    "val_probs = get_all_probs(val_loader)\n",
    "\n",
    "# Compute ROC curve and ROC area for each class in training set\n",
    "fpr = dict()\n",
    "tpr = dict()\n",
    "roc_auc = dict()\n",
    "\n",
    "for i in range(n_classes):\n",
    "    fpr[i], tpr[i], _ = roc_curve(y_bin_train[:, i], train_probs[:, i])\n",
    "    roc_auc[i] = auc(fpr[i], tpr[i])\n",
    "\n",
    "# Plot ROC curve for a specific class, e.g., the first and last class\n",
    "plt.figure()\n",
    "lw = 2\n",
    "plt.plot(fpr[0], tpr[0], color='darkorange', lw=lw, label='ROC curve (area = %0.2f)' % roc_auc[0])\n",
    "plt.plot(fpr[n_classes-1], tpr[n_classes-1], color='blue', lw=lw, label='ROC curve (area = %0.2f)' % roc_auc[n_classes-1])\n",
    "plt.plot([0, 1], [0, 1], color='navy', lw=lw, linestyle='--')\n",
    "plt.xlim([0.0, 1.0])\n",
    "plt.ylim([0.0, 1.05])\n",
    "plt.xlabel('False Positive Rate')\n",
    "plt.ylabel('True Positive Rate')\n",
    "plt.title('Receiver operating characteristic example')\n",
    "plt.legend(loc=\"lower right\")\n",
    "plt.show()\n"
   ]
  },
  {
   "attachments": {},
   "cell_type": "markdown",
   "metadata": {},
   "source": [
    "### Redesign your CNN model (optional)\n",
    "> This is optional and does not carry any marks. Often to tackle model underfitting we tend to make more complex network design. Depending on your observation, you can improve your model if you wish. "
   ]
  },
  {
   "cell_type": "code",
   "execution_count": null,
   "metadata": {},
   "outputs": [],
   "source": [
    "# Your code here (optional)\n",
    "class ImprovedCNN(nn.Module):\n",
    "    def __init__(self):\n",
    "        super(ImprovedCNN, self).__init__()\n",
    "        self.conv1 = nn.Conv2d(3, 32, 3, padding=1) \n",
    "        self.bn1 = nn.BatchNorm2d(32)  # Batch normalization\n",
    "        self.conv2 = nn.Conv2d(32, 64, 3, padding=1)\n",
    "        self.bn2 = nn.BatchNorm2d(64)  \n",
    "        self.conv3 = nn.Conv2d(64, 128, 3, padding=1)  # Additional conv layer\n",
    "        self.bn3 = nn.BatchNorm2d(128)\n",
    "        self.relu = nn.ReLU()\n",
    "        self.maxpool = nn.MaxPool2d(2, 2)\n",
    "        self.fc1 = nn.Linear(128 * 8 * 8, 128)  # Adjust for pooling\n",
    "        self.dropout = nn.Dropout(0.25)  # Dropout layer\n",
    "        self.fc2 = nn.Linear(128, 30)\n",
    "\n",
    "    def forward(self, x):\n",
    "        x = self.maxpool(self.relu(self.bn1(self.conv1(x))))\n",
    "        x = self.maxpool(self.relu(self.bn2(self.conv2(x))))\n",
    "        x = self.maxpool(self.relu(self.bn3(self.conv3(x))))\n",
    "        x = x.view(-1, 128 * 8 * 8)\n",
    "        x = self.dropout(self.relu(self.fc1(x)))  # Apply dropout\n",
    "        x = self.fc2(x)\n",
    "        return x"
   ]
  },
  {
   "cell_type": "code",
   "execution_count": null,
   "metadata": {},
   "outputs": [],
   "source": [
    "import torch.nn.functional as F\n",
    "\n",
    "class Net(nn.Module):\n",
    "    def __init__(self):\n",
    "        super().__init__()\n",
    "        self.conv1 = nn.Conv2d(3, 32, 3, padding=1)\n",
    "        self.pool = nn.MaxPool2d(2, 2)\n",
    "        self.conv2 = nn.Conv2d(3, 64, 3, padding=1)\n",
    "        self.fc1 = nn.Linear(16 * 5 * 5, 120)\n",
    "        self.fc2 = nn.Linear(120, 84)\n",
    "        self.fc3 = nn.Linear(84, 10)\n",
    "\n",
    "    def forward(self, x):\n",
    "        x = self.pool(F.relu(self.conv1(x)))\n",
    "        x = self.pool(F.relu(self.conv2(x)))\n",
    "        x = torch.flatten(x, 1) # flatten all dimensions except batch\n",
    "        x = F.relu(self.fc1(x))\n",
    "        x = F.relu(self.fc2(x))\n",
    "        x = self.fc3(x)\n",
    "        return x\n"
   ]
  },
  {
   "cell_type": "code",
   "execution_count": null,
   "metadata": {},
   "outputs": [],
   "source": [
    "import torch.nn.functional as F\n",
    "\n",
    "class CustomCNN(nn.Module):\n",
    "    def __init__(self):\n",
    "        super(CustomCNN, self).__init__()\n",
    "        # Convolutional layers\n",
    "        self.conv1 = nn.Conv2d(in_channels=3, out_channels=128, kernel_size=3, padding=1)\n",
    "        self.conv2 = nn.Conv2d(in_channels=128, out_channels=128, kernel_size=3, padding=1)\n",
    "        self.conv3 = nn.Conv2d(in_channels=128, out_channels=128, kernel_size=3, padding=1)\n",
    "        self.conv4 = nn.Conv2d(in_channels=128, out_channels=128, kernel_size=3, padding=1)\n",
    "        self.conv5 = nn.Conv2d(in_channels=128, out_channels=128, kernel_size=3, padding=1)\n",
    "        \n",
    "        # Max pooling layer\n",
    "        self.pool = nn.MaxPool2d(kernel_size=2, stride=1)\n",
    "        \n",
    "        # Fully connected layers\n",
    "        self.fc1 = nn.Linear(128 * 60 * 60, 400) # Adjust the linear layer input depending on your image size\n",
    "        self.fc2 = nn.Linear(400, 400)\n",
    "        self.fc3 = nn.Linear(400, 200)\n",
    "        \n",
    "    def forward(self, x):\n",
    "        # [conv-relu] x2 - pool\n",
    "        x = F.relu(self.conv1(x))\n",
    "        x = F.relu(self.conv2(x))\n",
    "        x = self.pool(x)\n",
    "        \n",
    "        # [conv-relu-pool] x2\n",
    "        x = F.relu(self.conv3(x))\n",
    "        x = self.pool(x)\n",
    "        x = F.relu(self.conv4(x))\n",
    "        x = self.pool(x)\n",
    "        \n",
    "        # conv-relu-pool\n",
    "        x = F.relu(self.conv5(x))\n",
    "        x = self.pool(x)\n",
    "        \n",
    "        # Flatten the output for the fully connected layer\n",
    "        x = x.view(x.size(0), -1)\n",
    "        \n",
    "        # [fc] x3 - softmax\n",
    "        x = F.relu(self.fc1(x))\n",
    "        x = F.relu(self.fc2(x))\n",
    "        x = F.relu(self.fc3(x))\n",
    "        return F.log_softmax(x, dim=1)\n",
    "\n",
    "# Assuming the use of a CUDA device if available\n",
    "device = torch.device(\"cuda\" if torch.cuda.is_available() else \"mps\")\n",
    "model = CustomCNN().to(device)"
   ]
  },
  {
   "cell_type": "code",
   "execution_count": null,
   "metadata": {},
   "outputs": [],
   "source": [
    "\n",
    "cnn_criterion = nn.NLLLoss()\n",
    "cnn_optimizer = optim.Adam(model.parameters(), lr=1e-3)\n",
    "\n",
    "# Train CNN model\n",
    "model, cnn_history = train_model(model, train_loader, val_loader, cnn_criterion, cnn_optimizer, num_epochs=15)\n",
    "\n",
    "# Plot training history for CNN\n",
    "plot_training_history(cnn_history)"
   ]
  },
  {
   "attachments": {},
   "cell_type": "markdown",
   "metadata": {},
   "source": [
    "**Note: All questions below here relates to the CNN model only and not an MLP model! You are advised to use your final CNN model only for each of the questions below.**"
   ]
  },
  {
   "attachments": {},
   "cell_type": "markdown",
   "metadata": {},
   "source": [
    "### 2.3 Strategies for tackling overfitting (18 marks)\n",
    "Using your (final) CNN model perform the strategies below to avoid overfitting problems. You can resuse the network weights from previous training, often referred to as ``fine tuning``. \n",
    "*   **2.3.1** Data augmentation\n",
    "*   **2.3.2** Dropout\n",
    "*   **2.3.3** Hyperparameter tuning (e.g. changing learning rate)\n",
    "\n",
    "> Plot loss and accuracy graphs per epoch side by side for each implemented strategy."
   ]
  },
  {
   "attachments": {},
   "cell_type": "markdown",
   "metadata": {},
   "source": [
    "#### 2.3.1 Data augmentation (6 marks)\n",
    "\n",
    "> Implement at least five different data augmentation techniques that should include both photometric and geometric augmentations. \n",
    "\n",
    "> Provide graphs and comment on what you observe.\n"
   ]
  },
  {
   "cell_type": "code",
   "execution_count": 21,
   "metadata": {},
   "outputs": [],
   "source": [
    "# Your code here!\n",
    "\n",
    "data_transforms = transforms.Compose([\n",
    "    transforms.RandomHorizontalFlip(p=0.5),  # Geometric: Horizontally flip the image with a 50% probability\n",
    "    transforms.RandomVerticalFlip(p=0.5),    # Geometric: Vertically flip the image with a 50% probability\n",
    "    transforms.RandomRotation(30),           # Geometric: Rotate the image up to 30 degrees\n",
    "    transforms.RandomResizedCrop(64),        # Geometric: Crop the image to a random size and aspect ratio\n",
    "    transforms.RandomAffine(15),             # Geometric: Apply a random affine transformation\n",
    "    transforms.RandomPerspective(),          # Geometric: Apply a random perspective transformation\n",
    "    transforms.RandomErasing(p=0.5, scale=(0.02, 0.33), ratio=(0.3, 3.3)),  # Randomly erase rectangular portions of the image,\n",
    "    transforms.ColorJitter(brightness=0.2, contrast=0.2, saturation=0.2, hue=0.2)])  # Color: Adjust brightness, contrast, saturation, and hue"
   ]
  },
  {
   "cell_type": "code",
   "execution_count": 22,
   "metadata": {},
   "outputs": [],
   "source": [
    "new_full_dataset = TinyImage30Dataset(directory=train_dir, transform=data_transforms)\n",
    "full_dataset_size = len(full_dataset)\n",
    "test_size = int(0.2 * full_dataset_size)  # 20% for testing\n",
    "train_size = full_dataset_size - test_size\n",
    "\n",
    "# Split the dataset\n",
    "train_dataset, val_dataset = random_split(full_dataset, [train_size, test_size])\n",
    "\n",
    "# Now create DataLoader instances for the train and test sets\n",
    "train_loader = DataLoader(train_dataset, batch_size=32, shuffle=True)\n",
    "val_loader = DataLoader(val_dataset, batch_size=32, shuffle=False)\n"
   ]
  },
  {
   "cell_type": "code",
   "execution_count": 23,
   "metadata": {},
   "outputs": [
    {
     "name": "stdout",
     "output_type": "stream",
     "text": [
      "Epoch 0/24 - Train Loss: 2.8206 - Train Acc: 0.1931 - Val Loss: 2.4699 - Val Acc: 0.2722\n",
      "Epoch 1/24 - Train Loss: 2.2415 - Train Acc: 0.3535 - Val Loss: 2.2600 - Val Acc: 0.3585\n",
      "Epoch 2/24 - Train Loss: 1.8645 - Train Acc: 0.4575 - Val Loss: 2.2147 - Val Acc: 0.3826\n",
      "Epoch 3/24 - Train Loss: 1.4987 - Train Acc: 0.5621 - Val Loss: 2.2014 - Val Acc: 0.3952\n",
      "Epoch 4/24 - Train Loss: 1.0767 - Train Acc: 0.6795 - Val Loss: 2.4490 - Val Acc: 0.3756\n",
      "Epoch 5/24 - Train Loss: 0.6690 - Train Acc: 0.8039 - Val Loss: 2.7970 - Val Acc: 0.3819\n",
      "Epoch 6/24 - Train Loss: 0.3712 - Train Acc: 0.8911 - Val Loss: 3.3702 - Val Acc: 0.3637\n",
      "Epoch 7/24 - Train Loss: 0.1944 - Train Acc: 0.9465 - Val Loss: 4.0644 - Val Acc: 0.3574\n",
      "Epoch 8/24 - Train Loss: 0.1322 - Train Acc: 0.9631 - Val Loss: 4.3920 - Val Acc: 0.3633\n",
      "Epoch 9/24 - Train Loss: 0.0874 - Train Acc: 0.9765 - Val Loss: 4.8324 - Val Acc: 0.3619\n",
      "Epoch 10/24 - Train Loss: 0.0957 - Train Acc: 0.9714 - Val Loss: 5.0663 - Val Acc: 0.3556\n",
      "Epoch 11/24 - Train Loss: 0.1416 - Train Acc: 0.9564 - Val Loss: 5.1675 - Val Acc: 0.3396\n",
      "Epoch 12/24 - Train Loss: 0.0694 - Train Acc: 0.9801 - Val Loss: 5.7213 - Val Acc: 0.3515\n",
      "Epoch 13/24 - Train Loss: 0.0928 - Train Acc: 0.9723 - Val Loss: 5.7323 - Val Acc: 0.3404\n",
      "Epoch 14/24 - Train Loss: 0.0449 - Train Acc: 0.9865 - Val Loss: 5.8626 - Val Acc: 0.3493\n",
      "Epoch 15/24 - Train Loss: 0.0662 - Train Acc: 0.9800 - Val Loss: 6.1270 - Val Acc: 0.3422\n",
      "Epoch 16/24 - Train Loss: 0.0657 - Train Acc: 0.9800 - Val Loss: 6.3718 - Val Acc: 0.3419\n",
      "Epoch 17/24 - Train Loss: 0.0629 - Train Acc: 0.9792 - Val Loss: 6.4495 - Val Acc: 0.3441\n",
      "Epoch 18/24 - Train Loss: 0.0575 - Train Acc: 0.9815 - Val Loss: 7.3168 - Val Acc: 0.3400\n",
      "Epoch 19/24 - Train Loss: 0.0751 - Train Acc: 0.9763 - Val Loss: 7.1508 - Val Acc: 0.3437\n",
      "Epoch 20/24 - Train Loss: 0.0363 - Train Acc: 0.9890 - Val Loss: 7.3389 - Val Acc: 0.3452\n",
      "Epoch 21/24 - Train Loss: 0.0684 - Train Acc: 0.9790 - Val Loss: 7.4519 - Val Acc: 0.3356\n",
      "Epoch 22/24 - Train Loss: 0.0721 - Train Acc: 0.9775 - Val Loss: 7.3763 - Val Acc: 0.3396\n",
      "Epoch 23/24 - Train Loss: 0.0437 - Train Acc: 0.9859 - Val Loss: 7.5691 - Val Acc: 0.3463\n",
      "Epoch 24/24 - Train Loss: 0.0416 - Train Acc: 0.9866 - Val Loss: 7.9272 - Val Acc: 0.3352\n"
     ]
    },
    {
     "data": {
      "image/png": "[encoded data removed]",
      "text/plain": [
       "<Figure size 1200x400 with 2 Axes>"
      ]
     },
     "metadata": {},
     "output_type": "display_data"
    }
   ],
   "source": [
    "cnn_model = SimpleCNN()\n",
    "\n",
    "device = torch.device(\"cuda\" if torch.cuda.is_available() else \"mps\")\n",
    "cnn_model = cnn_model.to(device)\n",
    "\n",
    "cnn_criterion = nn.CrossEntropyLoss()\n",
    "cnn_optimizer = optim.Adam(cnn_model.parameters(), lr=1e-3)\n",
    "\n",
    "# Train CNN model\n",
    "cnn_model, cnn_history = train_model(cnn_model, train_loader, val_loader, cnn_criterion, cnn_optimizer, num_epochs=25)\n",
    "\n",
    "# Plot training history for CNN\n",
    "plot_training_history(cnn_history)"
   ]
  },
  {
   "attachments": {},
   "cell_type": "markdown",
   "metadata": {},
   "source": [
    "#### 2.3.2 Dropout (6 marks)\n",
    "\n",
    "> Implement dropout in your model \n",
    "\n",
    "> Provide graphs and comment on your choice of proportion used."
   ]
  },
  {
   "cell_type": "code",
   "execution_count": null,
   "metadata": {},
   "outputs": [],
   "source": [
    "# Your code here!\n",
    "class CustomCNN(nn.Module):\n",
    "    def __init__(self, dropout_rate=0.5):  # You can specify the dropout rate as desired, typically between 0.2 and 0.5\n",
    "        super(CustomCNN, self).__init__()\n",
    "        # Convolutional layers\n",
    "        self.conv1 = nn.Conv2d(in_channels=3, out_channels=128, kernel_size=3, padding=1)\n",
    "        self.conv2 = nn.Conv2d(in_channels=128, out_channels=128, kernel_size=3, padding=1)\n",
    "        self.conv3 = nn.Conv2d(in_channels=128, out_channels=128, kernel_size=3, padding=1)\n",
    "        self.conv4 = nn.Conv2d(in_channels=128, out_channels=128, kernel_size=3, padding=1)\n",
    "        self.conv5 = nn.Conv2d(in_channels=128, out_channels=128, kernel_size=3, padding=1)\n",
    "        \n",
    "        # Max pooling layer\n",
    "        self.pool = nn.MaxPool2d(kernel_size=2, stride=1)\n",
    "        \n",
    "        # Dropout layer\n",
    "        self.dropout = nn.Dropout(p=dropout_rate)\n",
    "        \n",
    "        # Fully connected layers\n",
    "        self.fc1 = nn.Linear(128 * 60 * 60, 400)  # Adjust this to match the feature map size before the fully connected layers\n",
    "        self.fc2 = nn.Linear(400, 400)\n",
    "        self.fc3 = nn.Linear(400, 200)\n",
    "        \n",
    "    def forward(self, x):\n",
    "        # [conv-relu] x2 - pool\n",
    "        x = F.relu(self.conv1(x))\n",
    "        x = F.relu(self.conv2(x))\n",
    "        x = self.pool(x)\n",
    "        \n",
    "        # Apply dropout after pooling\n",
    "        x = self.dropout(x)\n",
    "        \n",
    "        # [conv-relu-pool] x2\n",
    "        x = F.relu(self.conv3(x))\n",
    "        x = self.pool(x)\n",
    "        x = F.relu(self.conv4(x))\n",
    "        x = self.pool(x)\n",
    "        \n",
    "        # conv-relu-pool\n",
    "        x = F.relu(self.conv5(x))\n",
    "        x = self.pool(x)\n",
    "        \n",
    "        # Apply dropout before entering the fully connected layers\n",
    "        x = self.dropout(x)\n",
    "        \n",
    "        # Flatten the output for the fully connected layer\n",
    "        x = x.view(x.size(0), -1)\n",
    "        \n",
    "        # [fc-dropout-relu] x2\n",
    "        x = F.relu(self.fc1(x))\n",
    "        x = self.dropout(x)\n",
    "        x = F.relu(self.fc2(x))\n",
    "        x = self.dropout(x)\n",
    "        \n",
    "        # Last fully connected layer, no dropout here\n",
    "        x = self.fc3(x)\n",
    "        \n",
    "        # Softmax is typically applied via the loss function, so we'll return the raw scores\n",
    "        return x\n",
    "\n",
    "# You can specify the dropout rate when creating the model instance\n",
    "model = CustomCNN(dropout_rate=0.5)"
   ]
  },
  {
   "cell_type": "code",
   "execution_count": 19,
   "metadata": {},
   "outputs": [],
   "source": [
    "class SimpleCNNDropout(nn.Module):\n",
    "    def __init__(self, dropout_rate=0.5):  # Adding a dropout_rate parameter with a default of 0.5\n",
    "        super(SimpleCNNDropout, self).__init__()\n",
    "        self.conv1 = nn.Conv2d(3, 32, 3, padding=1)\n",
    "        self.conv2 = nn.Conv2d(32, 64, 3, padding=1)\n",
    "        self.relu = nn.ReLU()\n",
    "        self.maxpool = nn.MaxPool2d(2, 2)\n",
    "        self.dropout = nn.Dropout(p=dropout_rate)  # Dropout layer\n",
    "        self.fc1 = nn.Linear(64 * 16 * 16, 128)\n",
    "        self.fc2 = nn.Linear(128, 30)\n",
    "\n",
    "    def forward(self, x):\n",
    "        x = self.maxpool(self.relu(self.conv1(x)))\n",
    "        x = self.maxpool(self.relu(self.conv2(x)))\n",
    "        x = x.view(-1, 64 * 16 * 16)  # Flatten the output\n",
    "        x = self.dropout(x)  # Apply dropout\n",
    "        x = self.relu(self.fc1(x))\n",
    "        x = self.dropout(x)  # Apply dropout\n",
    "        x = self.fc2(x)\n",
    "        return x\n",
    "\n",
    "# Example of creating a model with a specific dropout rate\n",
    "model = SimpleCNNDropout(dropout_rate=0.5)"
   ]
  },
  {
   "cell_type": "code",
   "execution_count": 20,
   "metadata": {},
   "outputs": [
    {
     "name": "stdout",
     "output_type": "stream",
     "text": [
      "Epoch 0/49 - Train Loss: 3.2544 - Train Acc: 0.0908 - Val Loss: 3.0159 - Val Acc: 0.1789\n",
      "Epoch 1/49 - Train Loss: 2.9624 - Train Acc: 0.1615 - Val Loss: 2.7546 - Val Acc: 0.2407\n",
      "Epoch 2/49 - Train Loss: 2.8019 - Train Acc: 0.2018 - Val Loss: 2.6129 - Val Acc: 0.2811\n",
      "Epoch 3/49 - Train Loss: 2.6803 - Train Acc: 0.2384 - Val Loss: 2.5365 - Val Acc: 0.2985\n",
      "Epoch 4/49 - Train Loss: 2.5932 - Train Acc: 0.2598 - Val Loss: 2.4539 - Val Acc: 0.3137\n",
      "Epoch 5/49 - Train Loss: 2.5145 - Train Acc: 0.2809 - Val Loss: 2.3994 - Val Acc: 0.3344\n",
      "Epoch 6/49 - Train Loss: 2.4535 - Train Acc: 0.2916 - Val Loss: 2.3583 - Val Acc: 0.3356\n",
      "Epoch 7/49 - Train Loss: 2.3884 - Train Acc: 0.3071 - Val Loss: 2.3048 - Val Acc: 0.3500\n",
      "Epoch 8/49 - Train Loss: 2.3132 - Train Acc: 0.3274 - Val Loss: 2.2664 - Val Acc: 0.3593\n",
      "Epoch 9/49 - Train Loss: 2.2666 - Train Acc: 0.3410 - Val Loss: 2.2324 - Val Acc: 0.3585\n",
      "Epoch 10/49 - Train Loss: 2.2016 - Train Acc: 0.3592 - Val Loss: 2.2037 - Val Acc: 0.3693\n",
      "Epoch 11/49 - Train Loss: 2.1464 - Train Acc: 0.3679 - Val Loss: 2.1734 - Val Acc: 0.3815\n",
      "Epoch 12/49 - Train Loss: 2.0961 - Train Acc: 0.3908 - Val Loss: 2.1515 - Val Acc: 0.3837\n",
      "Epoch 13/49 - Train Loss: 2.0419 - Train Acc: 0.3996 - Val Loss: 2.1228 - Val Acc: 0.3896\n",
      "Epoch 14/49 - Train Loss: 2.0016 - Train Acc: 0.4111 - Val Loss: 2.1220 - Val Acc: 0.3956\n",
      "Epoch 15/49 - Train Loss: 1.9555 - Train Acc: 0.4253 - Val Loss: 2.0907 - Val Acc: 0.3996\n",
      "Epoch 16/49 - Train Loss: 1.9172 - Train Acc: 0.4291 - Val Loss: 2.0733 - Val Acc: 0.4096\n",
      "Epoch 17/49 - Train Loss: 1.8804 - Train Acc: 0.4467 - Val Loss: 2.0656 - Val Acc: 0.4100\n",
      "Epoch 18/49 - Train Loss: 1.8352 - Train Acc: 0.4523 - Val Loss: 2.0678 - Val Acc: 0.4022\n",
      "Epoch 19/49 - Train Loss: 1.7984 - Train Acc: 0.4619 - Val Loss: 2.0590 - Val Acc: 0.4089\n",
      "Epoch 20/49 - Train Loss: 1.7685 - Train Acc: 0.4673 - Val Loss: 2.0737 - Val Acc: 0.3996\n",
      "Epoch 21/49 - Train Loss: 1.7186 - Train Acc: 0.4808 - Val Loss: 2.0399 - Val Acc: 0.4074\n",
      "Epoch 22/49 - Train Loss: 1.6952 - Train Acc: 0.4889 - Val Loss: 2.0304 - Val Acc: 0.4152\n",
      "Epoch 23/49 - Train Loss: 1.6324 - Train Acc: 0.5078 - Val Loss: 2.0185 - Val Acc: 0.4174\n",
      "Epoch 24/49 - Train Loss: 1.6255 - Train Acc: 0.5112 - Val Loss: 2.0195 - Val Acc: 0.4222\n",
      "Epoch 25/49 - Train Loss: 1.5736 - Train Acc: 0.5217 - Val Loss: 2.0220 - Val Acc: 0.4181\n",
      "Epoch 26/49 - Train Loss: 1.5496 - Train Acc: 0.5245 - Val Loss: 2.0050 - Val Acc: 0.4281\n",
      "Epoch 27/49 - Train Loss: 1.5196 - Train Acc: 0.5376 - Val Loss: 2.0342 - Val Acc: 0.4237\n",
      "Epoch 28/49 - Train Loss: 1.4747 - Train Acc: 0.5506 - Val Loss: 2.0301 - Val Acc: 0.4200\n",
      "Epoch 29/49 - Train Loss: 1.4618 - Train Acc: 0.5451 - Val Loss: 2.0203 - Val Acc: 0.4215\n",
      "Epoch 30/49 - Train Loss: 1.4217 - Train Acc: 0.5609 - Val Loss: 2.0168 - Val Acc: 0.4281\n",
      "Epoch 31/49 - Train Loss: 1.4126 - Train Acc: 0.5683 - Val Loss: 2.0134 - Val Acc: 0.4263\n",
      "Epoch 32/49 - Train Loss: 1.3732 - Train Acc: 0.5806 - Val Loss: 2.0144 - Val Acc: 0.4281\n",
      "Epoch 33/49 - Train Loss: 1.3397 - Train Acc: 0.5835 - Val Loss: 2.0133 - Val Acc: 0.4289\n",
      "Epoch 34/49 - Train Loss: 1.3202 - Train Acc: 0.5956 - Val Loss: 2.0228 - Val Acc: 0.4307\n",
      "Epoch 35/49 - Train Loss: 1.2724 - Train Acc: 0.6039 - Val Loss: 2.0392 - Val Acc: 0.4259\n",
      "Epoch 36/49 - Train Loss: 1.2564 - Train Acc: 0.6096 - Val Loss: 2.0251 - Val Acc: 0.4296\n",
      "Epoch 37/49 - Train Loss: 1.2427 - Train Acc: 0.6122 - Val Loss: 2.0247 - Val Acc: 0.4300\n",
      "Epoch 38/49 - Train Loss: 1.1928 - Train Acc: 0.6245 - Val Loss: 2.0606 - Val Acc: 0.4215\n",
      "Epoch 39/49 - Train Loss: 1.1865 - Train Acc: 0.6286 - Val Loss: 2.0342 - Val Acc: 0.4300\n",
      "Epoch 40/49 - Train Loss: 1.1702 - Train Acc: 0.6292 - Val Loss: 2.0310 - Val Acc: 0.4322\n",
      "Epoch 41/49 - Train Loss: 1.1344 - Train Acc: 0.6488 - Val Loss: 2.0350 - Val Acc: 0.4304\n",
      "Epoch 42/49 - Train Loss: 1.1072 - Train Acc: 0.6522 - Val Loss: 2.0580 - Val Acc: 0.4319\n",
      "Epoch 43/49 - Train Loss: 1.0905 - Train Acc: 0.6529 - Val Loss: 2.0575 - Val Acc: 0.4241\n",
      "Epoch 44/49 - Train Loss: 1.0585 - Train Acc: 0.6647 - Val Loss: 2.0644 - Val Acc: 0.4333\n",
      "Epoch 45/49 - Train Loss: 1.0580 - Train Acc: 0.6690 - Val Loss: 2.0606 - Val Acc: 0.4363\n",
      "Epoch 46/49 - Train Loss: 1.0167 - Train Acc: 0.6737 - Val Loss: 2.0770 - Val Acc: 0.4385\n",
      "Epoch 47/49 - Train Loss: 1.0152 - Train Acc: 0.6746 - Val Loss: 2.1167 - Val Acc: 0.4315\n",
      "Epoch 48/49 - Train Loss: 0.9996 - Train Acc: 0.6781 - Val Loss: 2.1225 - Val Acc: 0.4352\n",
      "Epoch 49/49 - Train Loss: 0.9618 - Train Acc: 0.6932 - Val Loss: 2.0969 - Val Acc: 0.4337\n"
     ]
    },
    {
     "data": {
      "image/png": "[encoded data removed]",
      "text/plain": [
       "<Figure size 1200x400 with 2 Axes>"
      ]
     },
     "metadata": {},
     "output_type": "display_data"
    }
   ],
   "source": [
    "cnn_criterion = nn.CrossEntropyLoss()\n",
    "cnn_optimizer = optim.Adam(model.parameters(), lr=1e-4)\n",
    "\n",
    "# Train CNN model\n",
    "model, cnn_history = train_model(model, train_loader, val_loader, cnn_criterion, cnn_optimizer, num_epochs=50)\n",
    "\n",
    "# Plot training history for CNN\n",
    "plot_training_history(cnn_history)"
   ]
  },
  {
   "attachments": {},
   "cell_type": "markdown",
   "metadata": {},
   "source": [
    "#### 2.3.3 Hyperparameter tuning (6 marks)\n",
    "\n",
    "> Use learning rates [0.1, 0.001, 0.0001].\n",
    "\n",
    "> Provide graphs each for loss and accuracy at three different learning rates in a single graph."
   ]
  },
  {
   "cell_type": "code",
   "execution_count": null,
   "metadata": {},
   "outputs": [],
   "source": [
    "cnn_model = SimpleCNN()\n",
    "device = torch.device(\"cuda\" if torch.cuda.is_available() else \"mps\")\n",
    "cnn_optimizer = optim.Adam(cnn_model.parameters(), lr=0.1)\n",
    "# Train CNN model\n",
    "cnn_model, cnn_history = train_model(cnn_model, train_loader, val_loader, cnn_criterion, cnn_optimizer, num_epochs=7)\n",
    "# Plot training history for CNN\n",
    "plot_training_history(cnn_history)\n",
    "\n"
   ]
  },
  {
   "cell_type": "code",
   "execution_count": null,
   "metadata": {},
   "outputs": [],
   "source": [
    "cnn_model = SimpleCNN()\n",
    "# Your graph\n",
    "cnn_optimizer = optim.Adam(cnn_model.parameters(), lr=0.01)\n",
    "# Train CNN model\n",
    "cnn_model, cnn_history = train_model(cnn_model, train_loader, val_loader, cnn_criterion, cnn_optimizer, num_epochs=7)\n",
    "# Plot training history for CNN\n",
    "plot_training_history(cnn_history)"
   ]
  },
  {
   "cell_type": "code",
   "execution_count": null,
   "metadata": {},
   "outputs": [],
   "source": [
    "cnn_model = SimpleCNN()\n",
    "cnn_optimizer = optim.Adam(cnn_model.parameters(), lr=0.0001)\n",
    "# Train CNN model\n",
    "cnn_model, cnn_history = train_model(cnn_model, train_loader, val_loader, cnn_criterion, cnn_optimizer, num_epochs=7)\n",
    "# Plot training history for CNN\n",
    "plot_training_history(cnn_history)"
   ]
  },
  {
   "cell_type": "code",
   "execution_count": null,
   "metadata": {},
   "outputs": [],
   "source": []
  },
  {
   "attachments": {},
   "cell_type": "markdown",
   "metadata": {},
   "source": [
    "### 3 Model testing [10 marks]\n",
    "Online evaluation of your model performance on the test set. \n",
    "\n",
    "> Prepare the dataloader for the testset.\n",
    "\n",
    "> Write evaluation code for writing predictions.\n",
    "\n",
    "> Upload it to Kaggle submission page (6 marks)"
   ]
  },
  {
   "attachments": {},
   "cell_type": "markdown",
   "metadata": {},
   "source": [
    "\n",
    "#### 3.1 Test class and predictions (4 marks)\n",
    "\n",
    "> Build a test class, prepare a test dataloader and generate predictions\n",
    "\n",
    "Create a PyTorch ```Dataset``` for the unlabeled test data in the test_set folder of the Kaggle competition and generate predictions using your final model. Test data can be downloaded [here](https://www.kaggle.com/competitions/comp5623m-artificial-intelligence/data?select=test_set)."
   ]
  },
  {
   "cell_type": "code",
   "execution_count": 21,
   "metadata": {},
   "outputs": [],
   "source": [
    "test_dataset = TinyImage30TestDataset(directory=test_dir, transform=transform)\n",
    "test_loader = DataLoader(test_dataset, batch_size=32, shuffle=False)"
   ]
  },
  {
   "attachments": {},
   "cell_type": "markdown",
   "metadata": {},
   "source": [
    "#### 3.2 Prepare your submission and upload to Kaggle  (6 marks)\n",
    "\n",
    "Save all test predictions to a CSV file and submit it to the private class Kaggle competition. **Please save your test CSV file submissions using your student username (the one with letters, e.g., ``sc15jb``, not the ID with only numbers)**, for example, `sc15jb.csv`. That will help us to identify your submissions.\n",
    "\n",
    "The CSV file must contain only two columns: ‘Id’ and ‘Category’ (predicted class ID) as shown below:\n",
    "\n",
    "```txt\n",
    "Id,Category\n",
    "28d0f5e9_373c.JPEG,2\n",
    "bbe4895f_40bf.JPEG,18\n",
    "```\n",
    "\n",
    "The ‘Id’ column should include the name of the image. It is important to keep the same name as the one on the test set. Do not include any path, just the name of file (with extension). Your csv file must contain 1501 rows, one for each image on test set and 1 row for the headers. [To submit please click here.](https://www.kaggle.com/t/917fe52f6a3c4855880a24b34f26db07)\n",
    "\n",
    "> You may submit multiple times. We will use your personal top entry for allocating marks for this [6 marks]. \n"
   ]
  },
  {
   "cell_type": "code",
   "execution_count": 22,
   "metadata": {},
   "outputs": [],
   "source": [
    "# Your code here! \n",
    "import pandas as pd\n",
    "import torch\n",
    "\n",
    "# Let's assume you have a test DataLoader named `test_loader`\n",
    "# And a model named `model` that's already trained and moved to the appropriate device\n",
    "\n",
    "# Set the model to evaluation mode\n",
    "model.eval()\n",
    "device = torch.device(\"cuda\" if torch.cuda.is_available() else \"mps\")\n",
    "# Initialize lists to store the test ids and predicted categories\n",
    "test_ids = []\n",
    "pred_categories = []\n",
    "\n",
    "# Disable gradient computation\n",
    "with torch.no_grad():\n",
    "    for data in test_loader:\n",
    "        # Assuming the dataset returns a tuple of images and ids\n",
    "        images, ids = data\n",
    "        images = images.to(device)\n",
    "\n",
    "        # Get predictions\n",
    "        outputs = model(images)\n",
    "        _, predicted = torch.max(outputs, 1)\n",
    "\n",
    "        # Store results\n",
    "        test_ids.extend(ids)\n",
    "        pred_categories.extend(predicted.cpu().numpy().tolist())\n",
    "\n",
    "# Create a DataFrame with the results\n",
    "submission_df = pd.DataFrame({\n",
    "    'Id': test_ids,\n",
    "    'Category': pred_categories\n",
    "})\n",
    "\n",
    "# Ensure the file name is your student username as per the competition rules\n",
    "submission_file_name = 'mm23ap.csv'\n",
    "\n",
    "# Save the DataFrame to a CSV file\n",
    "submission_df.to_csv(submission_file_name, index=False)"
   ]
  },
  {
   "attachments": {},
   "cell_type": "markdown",
   "metadata": {},
   "source": [
    "\n",
    "### 4 Model Fine-tuning/transfer learning on CIFAR10 dataset  [16 marks]\n",
    "\n",
    "Fine-tuning is a way of applying or utilizing transfer learning. It is a process that takes a model that has already been trained for one given task and then tunes or tweaks the model to make it perform a second similar task. You can perform fine-tuning in following fashion:\n",
    "\n",
    "- Train an entire model: Start training model from scratch (large dataset, more computation)\n",
    "\n",
    "- Train some layers, freeze others: Lower layer features are general (problem independent) while higher layer features are specific (problem dependent – freeze)\n",
    "\n",
    "- Freeze convolution base and train only last FC layers (small dataset and lower computation) \n",
    "\n",
    "> **Configuring your dataset**\n",
    "   - Download your dataset using ``torchvision.datasets.CIFAR10`` [explained here](https://pytorch.org/vision/stable/generated/torchvision.datasets.CIFAR10.html)\n",
    "   - Split training dataset into training and validation set similar to above. *Note that the number of categories here is only 10*\n"
   ]
  },
  {
   "cell_type": "code",
   "execution_count": 30,
   "metadata": {},
   "outputs": [
    {
     "name": "stdout",
     "output_type": "stream",
     "text": [
      "Files already downloaded and verified\n"
     ]
    }
   ],
   "source": [
    "# Your code here! \n",
    "\n",
    "cifar10_train = torchvision.datasets.CIFAR10(root='./data', train=True, download=True, transform=transform)\n",
    "\n",
    "train_size = int(0.8 * len(cifar10_train))\n",
    "val_size = len(cifar10_train) - train_size\n",
    "train_dataset, val_dataset = random_split(cifar10_train, [train_size, val_size])\n",
    "\n",
    "train_loader = DataLoader(train_dataset, batch_size=32, shuffle=True)\n",
    "val_loader = DataLoader(val_dataset, batch_size=32, shuffle=False)"
   ]
  },
  {
   "attachments": {},
   "cell_type": "markdown",
   "metadata": {},
   "source": [
    "> Load pretrained AlexNet from PyTorch - use model copies to apply transfer learning in different configurations"
   ]
  },
  {
   "cell_type": "code",
   "execution_count": 28,
   "metadata": {},
   "outputs": [],
   "source": [
    "# Your code here! \n",
    "alexnet = torchvision.models.alexnet(pretrained=True)\n",
    "alexnet.classifier[6] = nn.Linear(alexnet.classifier[6].in_features, 10)\n",
    "device = torch.device(\"cuda\" if torch.cuda.is_available() else \"mps\")\n",
    "alexnet = alexnet.to(device)\n",
    "\n",
    "criterion = nn.CrossEntropyLoss()\n",
    "optimizer = optim.Adam(alexnet.classifier.parameters(), lr=0.001)"
   ]
  },
  {
   "attachments": {},
   "cell_type": "markdown",
   "metadata": {},
   "source": [
    "#### 4.1 Apply transfer learning with pretrained model weights (6 marks)\n",
    "\n",
    "\n",
    "> Configuration 1: No frozen layers"
   ]
  },
  {
   "cell_type": "code",
   "execution_count": 31,
   "metadata": {},
   "outputs": [
    {
     "name": "stdout",
     "output_type": "stream",
     "text": [
      "Epoch 0/9 - Train Loss: 1.4306 - Train Acc: 0.5163 - Val Loss: 1.1630 - Val Acc: 0.5975\n",
      "Epoch 1/9 - Train Loss: 1.2449 - Train Acc: 0.5723 - Val Loss: 1.1157 - Val Acc: 0.6089\n",
      "Epoch 2/9 - Train Loss: 1.1827 - Train Acc: 0.5962 - Val Loss: 1.0352 - Val Acc: 0.6439\n",
      "Epoch 3/9 - Train Loss: 1.1495 - Train Acc: 0.6092 - Val Loss: 1.0351 - Val Acc: 0.6569\n",
      "Epoch 4/9 - Train Loss: 1.1173 - Train Acc: 0.6241 - Val Loss: 1.0033 - Val Acc: 0.6572\n",
      "Epoch 5/9 - Train Loss: 1.0955 - Train Acc: 0.6291 - Val Loss: 1.0056 - Val Acc: 0.6668\n",
      "Epoch 6/9 - Train Loss: 1.0752 - Train Acc: 0.6363 - Val Loss: 0.9936 - Val Acc: 0.6662\n",
      "Epoch 7/9 - Train Loss: 1.0656 - Train Acc: 0.6441 - Val Loss: 0.9861 - Val Acc: 0.6691\n",
      "Epoch 8/9 - Train Loss: 1.0498 - Train Acc: 0.6482 - Val Loss: 0.9844 - Val Acc: 0.6704\n",
      "Epoch 9/9 - Train Loss: 1.0459 - Train Acc: 0.6488 - Val Loss: 1.0099 - Val Acc: 0.6731\n"
     ]
    },
    {
     "data": {
      "image/png": "[encoded data removed]",
      "text/plain": [
       "<Figure size 1200x400 with 2 Axes>"
      ]
     },
     "metadata": {},
     "output_type": "display_data"
    }
   ],
   "source": [
    "# Your model changes here - also print trainable parameters\n",
    "alexnet, alexnet_history = train_model(alexnet, train_loader, val_loader, criterion, optimizer, num_epochs=10)\n",
    "# Plot training history for CNN\n",
    "plot_training_history(alexnet_history)"
   ]
  },
  {
   "attachments": {},
   "cell_type": "markdown",
   "metadata": {},
   "source": [
    "#### 4.2 Fine-tuning model with frozen layers (6 marks)\n",
    "\n",
    "> Configuration 2: Frozen base convolution blocks"
   ]
  },
  {
   "cell_type": "code",
   "execution_count": 32,
   "metadata": {},
   "outputs": [
    {
     "name": "stderr",
     "output_type": "stream",
     "text": [
      "/Users/asishpanda/anaconda3/envs/dl/lib/python3.11/site-packages/torchvision/models/_utils.py:208: UserWarning: The parameter 'pretrained' is deprecated since 0.13 and may be removed in the future, please use 'weights' instead.\n",
      "  warnings.warn(\n",
      "/Users/asishpanda/anaconda3/envs/dl/lib/python3.11/site-packages/torchvision/models/_utils.py:223: UserWarning: Arguments other than a weight enum or `None` for 'weights' are deprecated since 0.13 and may be removed in the future. The current behavior is equivalent to passing `weights=AlexNet_Weights.IMAGENET1K_V1`. You can also use `weights=AlexNet_Weights.DEFAULT` to get the most up-to-date weights.\n",
      "  warnings.warn(msg)\n"
     ]
    }
   ],
   "source": [
    "# Your changes here - also print trainable parameters\n",
    "alexnet_frozen = torchvision.models.alexnet(pretrained=True)\n",
    "\n",
    "for param in alexnet_frozen.features.parameters():\n",
    "    param.requires_grad = False\n",
    "\n",
    "alexnet_frozen.classifier[6] = nn.Linear(alexnet.classifier[6].in_features, 10)\n",
    "alexnet_frozen = alexnet_frozen.to(device)\n",
    "\n",
    "optimizer = optim.Adam(alexnet_frozen.classifier.parameters(), lr=0.001)\n",
    "\n"
   ]
  },
  {
   "cell_type": "code",
   "execution_count": 33,
   "metadata": {},
   "outputs": [
    {
     "name": "stdout",
     "output_type": "stream",
     "text": [
      "Epoch 0/9 - Train Loss: 1.4318 - Train Acc: 0.5162 - Val Loss: 1.1425 - Val Acc: 0.5952\n",
      "Epoch 1/9 - Train Loss: 1.2383 - Train Acc: 0.5736 - Val Loss: 1.0422 - Val Acc: 0.6415\n",
      "Epoch 2/9 - Train Loss: 1.1727 - Train Acc: 0.5985 - Val Loss: 1.0540 - Val Acc: 0.6460\n",
      "Epoch 3/9 - Train Loss: 1.1386 - Train Acc: 0.6101 - Val Loss: 1.0399 - Val Acc: 0.6403\n",
      "Epoch 4/9 - Train Loss: 1.1170 - Train Acc: 0.6230 - Val Loss: 1.0157 - Val Acc: 0.6536\n",
      "Epoch 5/9 - Train Loss: 1.0870 - Train Acc: 0.6360 - Val Loss: 1.0151 - Val Acc: 0.6601\n",
      "Epoch 6/9 - Train Loss: 1.0746 - Train Acc: 0.6390 - Val Loss: 1.0001 - Val Acc: 0.6621\n",
      "Epoch 7/9 - Train Loss: 1.0630 - Train Acc: 0.6436 - Val Loss: 1.0118 - Val Acc: 0.6656\n",
      "Epoch 8/9 - Train Loss: 1.0461 - Train Acc: 0.6501 - Val Loss: 0.9807 - Val Acc: 0.6708\n",
      "Epoch 9/9 - Train Loss: 1.0404 - Train Acc: 0.6530 - Val Loss: 0.9997 - Val Acc: 0.6619\n"
     ]
    },
    {
     "data": {
      "image/png": "[encoded data removed]",
      "text/plain": [
       "<Figure size 1200x400 with 2 Axes>"
      ]
     },
     "metadata": {},
     "output_type": "display_data"
    }
   ],
   "source": [
    "alexnet_frozen, alexnet_frozen_history = train_model(alexnet_frozen, train_loader, val_loader, criterion, optimizer, num_epochs=10)\n",
    "# Plot training history for CNN\n",
    "plot_training_history(alexnet_frozen_history)"
   ]
  },
  {
   "attachments": {},
   "cell_type": "markdown",
   "metadata": {},
   "source": [
    "#### 4.3 Compare above configurations and comment on performances. (4 marks)"
   ]
  },
  {
   "cell_type": "code",
   "execution_count": 35,
   "metadata": {},
   "outputs": [
    {
     "data": {
      "image/png": "[encoded data removed]",
      "text/plain": [
       "<Figure size 1400x700 with 2 Axes>"
      ]
     },
     "metadata": {},
     "output_type": "display_data"
    }
   ],
   "source": [
    "# Your graphs here and please provide comment in markdown in another cell\n",
    "\n",
    "train_losses_no_freeze = alexnet_history['train_loss']\n",
    "val_losses_no_freeze = alexnet_history['val_loss']\n",
    "train_losses_frozen = alexnet_frozen_history['train_loss']\n",
    "val_losses_frozen = alexnet_frozen_history['val_loss']\n",
    "train_accuracies_no_freeze = alexnet_history['train_acc']\n",
    "val_accuracies_no_freeze = alexnet_history['val_acc']\n",
    "train_accuracies_frozen = alexnet_frozen_history['train_acc']\n",
    "val_accuracies_frozen = alexnet_frozen_history['val_acc']\n",
    "epochs = range(1, len(train_losses_no_freeze) + 1)\n",
    "\n",
    "plt.figure(figsize=(14, 7))\n",
    "plt.subplot(1, 2, 1)\n",
    "plt.plot(epochs, train_losses_no_freeze, label='Training Loss - No Freeze')\n",
    "plt.plot(epochs, val_losses_no_freeze, label='Validation Loss - No Freeze')\n",
    "plt.plot(epochs, train_losses_frozen, label='Training Loss - Frozen Base')\n",
    "plt.plot(epochs, val_losses_frozen, label='Validation Loss - Frozen Base')\n",
    "plt.title('Training and Validation Loss')\n",
    "plt.xlabel('Epochs')\n",
    "plt.ylabel('Loss')\n",
    "plt.legend()\n",
    "\n",
    "plt.subplot(1, 2, 2)\n",
    "plt.plot(epochs, train_accuracies_no_freeze, label='Training Accuracy - No Freeze')\n",
    "plt.plot(epochs, val_accuracies_no_freeze, label='Validation Accuracy - No Freeze')\n",
    "plt.plot(epochs, train_accuracies_frozen, label='Training Accuracy - Frozen Base')\n",
    "plt.plot(epochs, val_accuracies_frozen, label='Validation Accuracy - Frozen Base')\n",
    "plt.title('Training and Validation Accuracy')\n",
    "plt.xlabel('Epochs')\n",
    "plt.ylabel('Accuracy')\n",
    "plt.legend()\n",
    "\n",
    "plt.tight_layout()\n",
    "plt.show()"
   ]
  },
  {
   "attachments": {},
   "cell_type": "markdown",
   "metadata": {},
   "source": [
    "### Part II: Image Captioning using RNN [30 marks]\n",
    "\n",
    "\n",
    "\n",
    "### Motivation \n",
    "\n",
    "Through this part of assessment you will:\n",
    "\n",
    "> 1. Understand the principles of text pre-processing and vocabulary building (provided).\n",
    "> 2. Gain experience working with an image to text model.\n",
    "> 3. Use and compare text similarity metrics for evaluating an image to text model, and understand evaluation challenges.\n",
    "\n",
    "#### Dataset\n",
    "This assessment will use a subset of the [COCO \"Common Objects in Context\" dataset](https://cocodataset.org/) for image caption generation. COCO contains 330K images, of 80 object categories, and at least five textual reference captions per image. Our subset consists of nearly 5070 of these images, each of which has five or more different descriptions of the salient entities and activities, and we will refer to it as COCO_5070.\n",
    "\n",
    "To download the data:\n",
    "\n",
    "> 1. **Images and annotations**: download the zipped file provided in the link here as [``COMP5625M_data_assessment_2.zip``](https://leeds365-my.sharepoint.com/:u:/g/personal/scssali_leeds_ac_uk/EWWzE-_AIrlOkvOKxH4rjIgBF_eUx8KDJMPKM2eHwCE0dg?e=DdX62H). \n",
    "\n",
    "``Info only:`` To understand more about the COCO dataset you can look at the [download page](https://cocodataset.org/#download). We have already provided you with the \"2017 Train/Val annotations (241MB)\" but our image subset consists of fewer images compared to orginial COCO dataset. So, no need to download anything from here! \n",
    "\n",
    "> 2. **Image meta data**: as our set is a subset of full COCO dataset, we have created a CSV file containing relevant meta data for our particular subset of images. You can download it also from Drive, \"coco_subset_meta.csv\" at the same link as 1.\n",
    "\n",
    "#### Submission\n",
    "\n",
    "You can either submit the same file or make a two separate .ipython notebook files zipped in the submission (please name as ``yourstudentusername_partI.ipynb`` and ``yourstudentusername_partII.ipynb``). \n",
    "\n",
    "**Final note:**\n",
    "\n",
    "> **Please include in this notebook everything that you would like to be marked, including figures. Under each section, put the relevant code containing your solution. You may re-use functions you defined previously, but any new code must be in the relevant section.** Feel free to add as many code cells as you need under each section.\n"
   ]
  },
  {
   "attachments": {},
   "cell_type": "markdown",
   "metadata": {},
   "source": [
    "The basic principle of our image-to-text model is as pictured in the diagram below, where an Encoder network encodes the input image as a feature vector by providing the outputs of the last fully-connected layer of a pre-trained CNN (we use [ResNet50](https://arxiv.org/abs/1512.03385)). This pretrained network has been trained on the complete ImageNet dataset and is thus able to recognise common objects. \n",
    "\n",
    "You can alternatively use the COCO trained pretrained weights from [PyTorch](https://pytorch.org/vision/stable/models.html). One way to do this is use the \"FasterRCNN_ResNet50_FPN_V2_Weights.COCO_V1\" but use e.g., \"resnet_model = model.backbone.body\". Alternatively, you can use the checkpoint from your previous coursework where you fine-tuned to COCO dataset. \n",
    "\n",
    "These features are then fed into a Decoder network along with the reference captions. As the image feature dimensions are large and sparse, the Decoder network includes a linear layer which downsizes them, followed by *a batch normalisation layer to speed up training*. Those resulting features, as well as the reference text captions, are then passed into a recurrent network (we will use an **RNNs** in this assessment). \n",
    "\n",
    "The reference captions used to compute loss are represented as numerical vectors via an **embedding layer** whose weights are learned during training.\n",
    "\n",
    "<!-- ![Encoder Decoder](comp5625M_figure.jpg) -->\n",
    "\n",
    "<div>\n",
    "<center><img src=\"comp5625M_figure.jpg\" width=\"1000\"/></center>\n",
    "</div>\n"
   ]
  },
  {
   "attachments": {},
   "cell_type": "markdown",
   "metadata": {},
   "source": [
    "### Instructions for creating vocabulary \n",
    "\n",
    "A helper function file ``helperDL.py`` is provided that includes all the functions that will do the following for you. You can easily import these functions in the exercise, most are already done for you!  \n",
    "\n",
    "> 1. Extracting image features (a trained checkpoint is provided ``resnet50_caption.pt`` for you to download and use it for training your RNN)\n",
    "> 2. Text preparation of training and validation data is provided"
   ]
  },
  {
   "cell_type": "code",
   "execution_count": null,
   "metadata": {},
   "outputs": [],
   "source": [
    "import torch\n",
    "import torch.nn as nn\n",
    "from torchvision import transforms\n",
    "import torchvision.models as models\n",
    "from torch.utils.data import Dataset\n",
    "from torch.nn.utils.rnn import pack_padded_sequence, pad_packed_sequence\n",
    "import matplotlib.pyplot as plt\n",
    "from collections import Counter\n",
    "import os\n",
    "import numpy as np"
   ]
  },
  {
   "cell_type": "code",
   "execution_count": null,
   "metadata": {},
   "outputs": [],
   "source": [
    "device = torch.device('cuda' if torch.cuda.is_available() else 'mps')\n",
    "print('Using device:', device)"
   ]
  },
  {
   "attachments": {},
   "cell_type": "markdown",
   "metadata": {},
   "source": [
    "**Please refer to the submission section at the top of this notebook to prepare your submission.**\n"
   ]
  },
  {
   "cell_type": "code",
   "execution_count": null,
   "metadata": {},
   "outputs": [],
   "source": [
    "resnet50 = models.resnet50(pretrained=True)\n",
    "num_classes = 91  # The COCO dataset has 80 classes but the indices go up to 90\n",
    "resnet50.fc = torch.nn.Linear(resnet50.fc.in_features, num_classes)"
   ]
  },
  {
   "cell_type": "code",
   "execution_count": null,
   "metadata": {},
   "outputs": [],
   "source": [
    "# Load the feature map provided to you\n",
    "features_map = torch.load('coco_features_'+(device.type)+'.pt', map_location=device)"
   ]
  },
  {
   "attachments": {},
   "cell_type": "markdown",
   "metadata": {},
   "source": [
    "#### 5 Train DecoderRNN [20 marks]\n",
    "\n",
    "> 5.1 Design a RNN-based decoder (10 marks)\n",
    "\n",
    "> 5.2 Train your model with precomputed features (10 Marks)\n",
    "\n",
    "##### 5.1 Design a RNN-based decoder (10 marks)\n",
    "\n",
    "Read through the ```DecoderRNN``` model below. First, complete the decoder by adding an ```rnn``` layer to the decoder where indicated, using [the PyTorch API as reference](https://pytorch.org/docs/stable/nn.html#rnn).\n",
    "\n",
    "Keep all the default parameters except for ```batch_first```, which you may set to True.\n",
    "\n",
    "In particular, understand the meaning of ```pack_padded_sequence()``` as used in ```forward()```. Refer to the [PyTorch ```pack_padded_sequence()``` documentation](https://pytorch.org/docs/stable/generated/torch.nn.utils.rnn.pack_padded_sequence.html).\n"
   ]
  },
  {
   "cell_type": "code",
   "execution_count": null,
   "metadata": {},
   "outputs": [],
   "source": [
    "import json\n",
    "import pandas as pd\n",
    "\n",
    "with open('data/COMP5625M_data_assessment_2/coco/annotations2017/captions_train2017.json', 'r') as json_file:\n",
    "    data = json.load(json_file)\n",
    "    \n",
    "df = pd.DataFrame.from_dict(data[\"annotations\"])\n",
    "df.head()"
   ]
  },
  {
   "cell_type": "code",
   "execution_count": null,
   "metadata": {},
   "outputs": [],
   "source": [
    "coco_subset = pd.read_csv(\"data/COMP5625M_data_assessment_2/coco_subset_meta.csv\")\n",
    "new_data = pd.DataFrame( data['annotations'])\n",
    "new_coco = coco_subset.rename(columns={'id':'image_id'})\n",
    "new_coco.drop_duplicates('file_name',keep='first',inplace=True)\n",
    "\n",
    "new_subset = new_data.sort_values(['image_id'], ascending=True)\n",
    "# Get all the reference captions\n",
    "new_file = pd.merge(new_coco,new_subset,how = 'inner', on = 'image_id')\n",
    "new_file = new_file[['image_id','id','caption','file_name']]\n",
    "new_file = new_file.sort_values(['image_id'], ascending = True)\n",
    "new_file.head(10)"
   ]
  },
  {
   "cell_type": "code",
   "execution_count": null,
   "metadata": {},
   "outputs": [],
   "source": [
    "# getting the clearn clean - e.g., converting all uppercases to lowercases\n",
    "new_file[\"clean_caption\"] = \"\"\n",
    "from helperDL import gen_clean_captions_df\n",
    "new_file = gen_clean_captions_df(new_file)\n",
    "new_file.head(10)"
   ]
  },
  {
   "cell_type": "code",
   "execution_count": null,
   "metadata": {},
   "outputs": [],
   "source": [
    "##### Spilt your training, validation and test dataset with indexes to each set\n",
    "from helperDL import split_ids\n",
    "train_id, valid_id, test_id = split_ids(new_file['image_id'].unique())\n",
    "print(\"training:{}, validation:{}, test:{}\".format(len(train_id), len(valid_id), len(test_id)))"
   ]
  },
  {
   "cell_type": "code",
   "execution_count": null,
   "metadata": {},
   "outputs": [],
   "source": [
    "train_set = new_file.loc[new_file['image_id'].isin(train_id)]\n",
    "valid_set = new_file.loc[new_file['image_id'].isin(valid_id)]\n",
    "test_set = new_file.loc[new_file['image_id'].isin(test_id)]"
   ]
  },
  {
   "cell_type": "code",
   "execution_count": null,
   "metadata": {},
   "outputs": [],
   "source": [
    "class Vocabulary(object):\n",
    "    \"\"\" Simple vocabulary wrapper which maps every unique word to an integer ID. \"\"\"\n",
    "    def __init__(self):\n",
    "        # intially, set both the IDs and words to dictionaries with special tokens\n",
    "        self.word2idx = {'<pad>': 0, '<unk>': 1, '<end>': 2}\n",
    "        self.idx2word = {0: '<pad>', 1: '<unk>', 2: '<end>'}\n",
    "        self.idx = 3\n",
    "\n",
    "    def add_word(self, word):\n",
    "        # if the word does not already exist in the dictionary, add it\n",
    "        if not word in self.word2idx:\n",
    "            self.word2idx[word] = self.idx\n",
    "            self.idx2word[self.idx] = word\n",
    "            # increment the ID for the next word\n",
    "            self.idx += 1\n",
    "\n",
    "    def __call__(self, word):\n",
    "        # if we try to access a word not in the dictionary, return the id for <unk>\n",
    "        if not word in self.word2idx:\n",
    "            return self.word2idx['<unk>']\n",
    "        return self.word2idx[word]\n",
    "\n",
    "    def __len__(self):\n",
    "        return len(self.word2idx)"
   ]
  },
  {
   "cell_type": "code",
   "execution_count": null,
   "metadata": {},
   "outputs": [],
   "source": [
    "### build vocabulariy for each set - train, val and test \n",
    "# you will be using to create dataloaders\n",
    "from helperDL import build_vocab\n",
    "\n",
    "# create a vocab instance\n",
    "vocab = Vocabulary()\n",
    "vocab_train = build_vocab(train_id, new_file, vocab)\n",
    "vocab_valid = build_vocab(valid_id, new_file, vocab)\n",
    "vocab_test = build_vocab(test_id, new_file, vocab)\n",
    "\n",
    "vocab = vocab_train # using only training samples as vocabulary as instructed above\n",
    "print(\"Total vocabulary size: {}\".format(len(vocab_train)))\n"
   ]
  },
  {
   "cell_type": "code",
   "execution_count": null,
   "metadata": {},
   "outputs": [],
   "source": [
    "# They can also join the train and valid captions but they will need to run vocabulary after concatenation\n",
    "import numpy as np\n",
    "vocab = build_vocab(np.concatenate((train_id, valid_id), axis=0), new_file, vocab) #---> overrighting\n",
    "len(vocab)"
   ]
  },
  {
   "attachments": {},
   "cell_type": "markdown",
   "metadata": {},
   "source": [
    "Instantiate a ```DataLoader``` for your image feature and caption dataset. ``helperDL.py`` file includes all the required functions\n",
    "\n",
    "We need to overwrite the default PyTorch collate_fn() because our \n",
    "ground truth captions are sequential data of varying lengths. The default\n",
    "collate_fn() does not support merging the captions with padding.\n",
    "\n",
    "You can read more about it here:\n",
    "https://pytorch.org/docs/stable/data.html#dataloader-collate-fn. \n"
   ]
  },
  {
   "cell_type": "code",
   "execution_count": null,
   "metadata": {},
   "outputs": [],
   "source": [
    "from helperDL import EncoderCNN  \n",
    "model = EncoderCNN() \n",
    "print(model)"
   ]
  },
  {
   "cell_type": "code",
   "execution_count": null,
   "metadata": {},
   "outputs": [],
   "source": [
    "''' Load the saved image feature maps and trained model (\"provided to you\") '''\n",
    "\n",
    "# ---> your entry here (make sure that the path is correct)\n",
    "features = torch.load(\"coco_features.pt\")\n",
    "\n",
    "# also load the model ckpt and udate the model state dict of the base model\n",
    "# ---> your entry here (make sure that the path is correct)\n",
    "checkpoint = torch.load(\"ckpt file here\") \n",
    "model.load_state_dict(checkpoint['model_state_dict'])"
   ]
  },
  {
   "cell_type": "code",
   "execution_count": null,
   "metadata": {},
   "outputs": [],
   "source": [
    "##### Preparing the train, val and test dataloaders\n",
    "from helperDL import COCO_Features\n",
    "from helperDL import caption_collate_fn\n",
    "\n",
    "\n",
    "# Create a dataloader for train\n",
    "dataset_train = COCO_Features(\n",
    "    df=train_set,\n",
    "    vocab=vocab,\n",
    "    features=features_map,\n",
    ")\n",
    "\n",
    "train_loader = torch.utils.data.DataLoader(\n",
    "    dataset_train,\n",
    "    batch_size=32,\n",
    "    shuffle=True,\n",
    "    num_workers=0, # may need to set to 0\n",
    "    collate_fn=caption_collate_fn, # explicitly overwrite the collate_fn\n",
    ")\n",
    "\n",
    "# Create a dataloader for valid\n",
    "dataset_valid = COCO_Features(\n",
    "    df=valid_set,\n",
    "    vocab=vocab,\n",
    "    features=features_map,\n",
    ")\n",
    "\n",
    "valid_loader = torch.utils.data.DataLoader(\n",
    "    dataset_valid,\n",
    "    batch_size=32,\n",
    "    shuffle=True,\n",
    "    num_workers=0, # may need to set to 0\n",
    "    collate_fn=caption_collate_fn, # explicitly overwrite the collate_fn\n",
    ")"
   ]
  },
  {
   "cell_type": "code",
   "execution_count": null,
   "metadata": {},
   "outputs": [],
   "source": [
    "# say this is as below \n",
    "# --> Please change these numbers as required. \n",
    "# --> Please comment on changes that you do.\n",
    "EMBED_SIZE = 256\n",
    "HIDDEN_SIZE = 512\n",
    "NUM_LAYERS = 1\n",
    "LR = 0.001\n",
    "NUM_EPOCHS = 5\n",
    "LOG_STEP = 10\n",
    "MAX_SEQ_LEN = 37"
   ]
  },
  {
   "attachments": {},
   "cell_type": "markdown",
   "metadata": {},
   "source": [
    "#### 5.1 Design a RNN-based decoder (10 marks)\n",
    "\n",
    "Read through the ```DecoderRNN``` model below. First, complete the decoder by adding an ```rnn``` layer to the decoder where indicated, using [the PyTorch API as reference](https://pytorch.org/docs/stable/nn.html#rnn).\n",
    "\n",
    "Keep all the default parameters except for ```batch_first```, which you may set to True.\n",
    "\n",
    "In particular, understand the meaning of ```pack_padded_sequence()``` as used in ```forward()```. Refer to the [PyTorch ```pack_padded_sequence()``` documentation](https://pytorch.org/docs/stable/generated/torch.nn.utils.rnn.pack_padded_sequence.html)."
   ]
  },
  {
   "cell_type": "code",
   "execution_count": null,
   "metadata": {},
   "outputs": [],
   "source": [
    "class DecoderRNN(nn.Module):\n",
    "    def __init__(self, vocab_size, embed_size=256, hidden_size=512, num_layers=1, max_seq_length=47):\n",
    "        \"\"\"Set the hyper-parameters and build the layers.\"\"\"\n",
    "        super(DecoderRNN, self).__init__()\n",
    "        # we want a specific output size, which is the size of our embedding, so\n",
    "        # we feed our extracted features from the last fc layer (dimensions 1 x 2048)\n",
    "        # into a Linear layer to resize\n",
    "        # your code\n",
    "        \n",
    "        # batch normalisation helps to speed up training\n",
    "        # your code\n",
    "\n",
    "\n",
    "        # your code for embedding layer\n",
    "   \n",
    "\n",
    "        # your code for RNN\n",
    "   \n",
    "\n",
    "        self.linear = nn.Linear(hidden_size, vocab_size)\n",
    "        self.max_seq_length = max_seq_length\n",
    "        \n",
    "\n",
    "    def forward(self, features, captions, lengths):\n",
    "        \"\"\"Decode image feature vectors and generates captions.\"\"\"\n",
    "        embeddings = self.embed(captions)\n",
    "        im_features = self.resize(features)\n",
    "        im_features = self.bn(im_features)\n",
    "        \n",
    "        # compute your feature embeddings\n",
    "        # your code\n",
    "\n",
    "    \n",
    "        # pack_padded_sequence returns a PackedSequence object, which contains two items: \n",
    "        # the packed data (data cut off at its true length and flattened into one list), and \n",
    "        # the batch_sizes, or the number of elements at each sequence step in the batch.\n",
    "        # For instance, given data [a, b, c] and [x] the PackedSequence would contain data \n",
    "        # [a, x, b, c] with batch_sizes=[2,1,1].\n",
    "\n",
    "        # your code [hint: use pack_padded_sequence]\n",
    "    \n",
    "\n",
    "\n",
    "        outputs = self.linear() #hint: use a hidden layers in parenthesis\n",
    "        return outputs\n",
    "    \n",
    "    \n",
    "    def sample(self, features, states=None):\n",
    "        \"\"\"Generate captions for given image features using greedy search.\"\"\"\n",
    "        sampled_ids = []\n",
    "\n",
    "        inputs = self.bn(self.resize(features)).unsqueeze(1)\n",
    "        for i in range(self.max_seq_length):\n",
    "            hiddens, states = self.rnn(inputs, states)  # hiddens: (batch_size, 1, hidden_size)\n",
    "            outputs = self.linear(hiddens.squeeze(1))   # outputs:  (batch_size, vocab_size)\n",
    "            _, predicted = outputs.max(1)               # predicted: (batch_size)\n",
    "            sampled_ids.append(predicted)\n",
    "            inputs = self.embed(predicted)              # inputs: (batch_size, embed_size)\n",
    "            inputs = inputs.unsqueeze(1)                # inputs: (batch_size, 1, embed_size)\n",
    "        sampled_ids = torch.stack(sampled_ids, 1)       # sampled_ids: (batch_size, max_seq_length)\n",
    "        return sampled_ids\n"
   ]
  },
  {
   "cell_type": "code",
   "execution_count": null,
   "metadata": {},
   "outputs": [],
   "source": [
    "# instantiate decoder\n",
    "decoder = DecoderRNN(len(vocab), embed_size=EMBED_SIZE, hidden_size=HIDDEN_SIZE, num_layers=NUM_LAYERS).to(device)"
   ]
  },
  {
   "attachments": {},
   "cell_type": "markdown",
   "metadata": {},
   "source": [
    "##### 5.2 Train your model with precomputed features (10 marks)\n",
    "\n",
    "Train the decoder by passing the features, reference captions, and targets to the decoder, then computing loss based on the outputs and the targets. Note that when passing the targets and model outputs to the loss function, the targets will also need to be formatted using ```pack_padded_sequence()```.\n",
    "\n",
    "We recommend a batch size of around 64 (though feel free to adjust as necessary for your hardware).\n",
    "\n",
    "**We strongly recommend saving a checkpoint of your trained model after training so you don't need to re-train multiple times.**\n",
    "\n",
    "Display a graph of training and validation loss over epochs to justify your stopping point."
   ]
  },
  {
   "cell_type": "code",
   "execution_count": null,
   "metadata": {},
   "outputs": [],
   "source": [
    "\n",
    "# loss and optimizer here\n",
    "# your code here --->\n",
    "\n",
    "\n",
    "\n",
    "# train the models\n",
    "total_step = len(train_loader)\n",
    "total_step_v = len(valid_loader)\n",
    "stats = np.zeros((NUM_EPOCHS,2))\n",
    "print(stats.shape)\n",
    "total_loss = 0\n",
    "for epoch in range(NUM_EPOCHS):\n",
    "    for i, (features_, captions_, lengths_) in enumerate(train_loader):\n",
    "        # your code here --->\n",
    "\n",
    "\n",
    "\n",
    "\n",
    "\n",
    "\n",
    "\n",
    "\n",
    "\n",
    "  \n",
    "        total_loss += loss.item()\n",
    "\n",
    "        # print stats\n",
    "        if i % LOG_STEP == 0:\n",
    "            print(f\"Epoch [{epoch+1}/{NUM_EPOCHS}], Step [{i}/{total_step}], Loss: {loss.item():.4f}\")\n",
    "    \n",
    "    stats[epoch,0] = round(total_loss/total_step,3)\n",
    "    total_loss = 0\n",
    "    decoder.eval()\n",
    "    with torch.no_grad():  \n",
    "        for i, (features_, captions_, lengths_) in enumerate(valid_loader):\n",
    "            # your code here --->\n",
    "\n",
    "\n",
    "\n",
    "            \n",
    "    stats[epoch,1] = round(total_loss/total_step_v,3)\n",
    "    total_loss = 0\n",
    "    # print stats\n",
    "    print(\"=\"*30)\n",
    "    print(f\"Epoch [{epoch+1}/{NUM_EPOCHS}], Train_Loss: {stats[epoch,0]}, Valid_Loss: {stats[epoch,1]}\")\n",
    "    print(\"=\"*30)\n",
    "    decoder.train()"
   ]
  },
  {
   "cell_type": "code",
   "execution_count": null,
   "metadata": {},
   "outputs": [],
   "source": [
    "fig = plt.figure()\n",
    "\n",
    "plt.plot(stats[:,0], 'r', label = 'training', )\n",
    "plt.plot(stats[:,1], 'g', label = 'validation' )\n",
    "plt.legend()\n",
    "plt.xlabel('epoch')\n",
    "plt.ylabel('loss')\n",
    "plt.title(f\"COCO dataset- train vocab only #vocab={len(vocab)} - 5 epochs\")\n",
    "fig.savefig(\"coco_train_vocab_only.png\")\n",
    "plt.show()"
   ]
  },
  {
   "cell_type": "code",
   "execution_count": null,
   "metadata": {},
   "outputs": [],
   "source": [
    "# save model after training\n",
    "decoder_ckpt = torch.save(decoder, \"coco_subset_assessment_decoder.ckpt\")"
   ]
  },
  {
   "attachments": {},
   "cell_type": "markdown",
   "metadata": {},
   "source": [
    "### 6 Test prediction and evaluation [10 marks] "
   ]
  },
  {
   "attachments": {},
   "cell_type": "markdown",
   "metadata": {},
   "source": [
    "#### 6.1 Generate predictions on test data (4 marks)\n",
    "\n",
    "Display 4 sample test images containing different objects, along with your model’s generated captions and all the reference captions for each.\n",
    "\n",
    "> Remember that everything **displayed** in the submitted notebook and .html file will be marked, so be sure to run all relevant cells."
   ]
  },
  {
   "cell_type": "code",
   "execution_count": null,
   "metadata": {},
   "outputs": [],
   "source": [
    "data_transform = transforms.Compose([ \n",
    "    transforms.Resize(224),     \n",
    "    transforms.CenterCrop(224), \n",
    "    transforms.ToTensor(),\n",
    "    transforms.Normalize((0.485, 0.456, 0.406),   # using ImageNet norms\n",
    "                         (0.229, 0.224, 0.225))])\n",
    "\n",
    "dataset_test = COCOImagesDataset(\n",
    "    df=test_set,\n",
    "    transform=data_transform,\n",
    ")\n",
    "test_loader = torch.utils.data.DataLoader(\n",
    "    dataset_test,\n",
    "    batch_size=32,\n",
    "    shuffle=False,\n",
    "    num_workers=0)"
   ]
  },
  {
   "cell_type": "code",
   "execution_count": null,
   "metadata": {},
   "outputs": [],
   "source": [
    "model.eval()\n",
    "decoder.eval() # generate caption, eval mode to not influence batchnormncoder.eval()"
   ]
  },
  {
   "cell_type": "code",
   "execution_count": null,
   "metadata": {},
   "outputs": [],
   "source": []
  },
  {
   "cell_type": "code",
   "execution_count": null,
   "metadata": {},
   "outputs": [],
   "source": [
    "# getting functions from helperDL.py\n",
    "from helperDL import timshow\n",
    "from helperDL import decode_caption"
   ]
  },
  {
   "cell_type": "code",
   "execution_count": null,
   "metadata": {},
   "outputs": [],
   "source": [
    "IMAGES_TO_SHOW = 4\n",
    "idx = 0\n",
    "with torch.no_grad():\n",
    "    for i, (image,filename) in enumerate(test_loader):\n",
    "        \n",
    "        # your code here --->\n",
    "\n",
    "\n",
    "\n",
    "\n",
    "\n",
    "\n",
    "\n",
    "        \n",
    "        print(f\"GENERATED: \\n\")\n",
    "        print(\"REFERENCES:\")\n",
    "\n",
    "        print(\"===================================\\n\")\n",
    "\n",
    "\n",
    "        timshow(image[0].cpu())\n",
    "        idx +=1\n",
    "        if idx == IMAGES_TO_SHOW:\n",
    "            break"
   ]
  },
  {
   "attachments": {},
   "cell_type": "markdown",
   "metadata": {},
   "source": [
    "#### 6.2 Caption evaluation using cosine similarity (6 marks)\n",
    "\n",
    "The cosine similarity measures the cosine of the angle between two vectors in n-dimensional space. The smaller the angle, the greater the similarity.\n",
    "\n",
    "To use the cosine similarity to measure the similarity between the generated caption and the reference captions: \n",
    "\n",
    "* Find the embedding vector of each word in the caption \n",
    "* Compute the average vector for each caption \n",
    "* Compute the cosine similarity score between the average vector of the generated caption and average vector of each reference caption\n",
    "* Compute the average of these scores \n",
    "\n",
    "Calculate the cosine similarity using the model's predictions over the whole test set. \n",
    "\n",
    "Display a histogram of the distribution of scores over the test set."
   ]
  },
  {
   "cell_type": "code",
   "execution_count": null,
   "metadata": {},
   "outputs": [],
   "source": [
    "# your code here"
   ]
  },
  {
   "attachments": {},
   "cell_type": "markdown",
   "metadata": {},
   "source": [
    "##### Thank you for completing the assessment - if you have any question, please ask on teams channel or attend lab sessions on Tuesdays and Wednesdays."
   ]
  }
 ],
 "metadata": {
  "colab": {
   "name": "COMP5623M_CW1_Q2.ipynb",
   "provenance": []
  },
  "kernelspec": {
   "display_name": "Python 3",
   "language": "python",
   "name": "python3"
  },
  "language_info": {
   "codemirror_mode": {
    "name": "ipython",
    "version": 3
   },
   "file_extension": ".py",
   "mimetype": "text/x-python",
   "name": "python",
   "nbconvert_exporter": "python",
   "pygments_lexer": "ipython3",
   "version": "3.11.8"
  },
  "vscode": {
   "interpreter": {
    "hash": "31f2aee4e71d21fbe5cf8b01ff0e069b9275f58929596ceb00d14d90e3e16cd6"
   }
  }
 },
 "nbformat": 4,
 "nbformat_minor": 1
}
